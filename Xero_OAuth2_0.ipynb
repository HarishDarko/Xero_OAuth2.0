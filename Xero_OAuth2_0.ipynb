{
  "nbformat": 4,
  "nbformat_minor": 0,
  "metadata": {
    "colab": {
      "name": "Xero_OAuth2.0",
      "provenance": [],
      "collapsed_sections": []
    },
    "kernelspec": {
      "name": "python3",
      "display_name": "Python 3"
    }
  },
  "cells": [
    {
      "cell_type": "markdown",
      "metadata": {
        "id": "zmMg5ennN3fY"
      },
      "source": [
        "# **Implementing OAuth 2.0 using Xero**\r\n",
        "\r\n",
        "![picture](https://developer.xero.com/static/images/documentation/authflow.svg)"
      ]
    },
    {
      "cell_type": "code",
      "metadata": {
        "id": "E2AkKk2G7p4n"
      },
      "source": [
        "import json\r\n",
        "import requests\r\n",
        "import base64\r\n",
        "#create a new app\r\n",
        "#copy and paste your client id and client secret below\r\n",
        "# Read this document to learn the process: https://developer.xero.com/documentation/oauth2/auth-flow"
      ],
      "execution_count": 1,
      "outputs": []
    },
    {
      "cell_type": "code",
      "metadata": {
        "colab": {
          "base_uri": "https://localhost:8080/"
        },
        "id": "wyFYAGDCPH_K",
        "outputId": "27f32d6f-ecc1-493c-88e3-a8f56eeed577"
      },
      "source": [
        "client_id = input(\"enter client_id : \")\r\n",
        "client_secret =input(\"client_secret : \")"
      ],
      "execution_count": 3,
      "outputs": [
        {
          "output_type": "stream",
          "text": [
            "enter client_id : 373EC817108D49C1B29999499B2AAC98\n",
            "client_secret : xqrC1tfkd4myWYM3zbxNx780oVAFrkmcMAAoJzosocxQ6U9f\n"
          ],
          "name": "stdout"
        }
      ]
    },
    {
      "cell_type": "code",
      "metadata": {
        "id": "DgcM85pn54qQ"
      },
      "source": [
        "redirect_url = 'https://developer.xero.com/'\n",
        "scope = 'offline_access accounting.transactions'\n",
        "b64_id_secret = base64.b64encode(bytes(client_id + ':' + client_secret, 'utf-8')).decode('utf-8')\n",
        "#click this link : https://developer.xero.com/documentation/oauth2/scopes to know more about scopes\n",
        "\n",
        "def XeroFirstAuth():\n",
        "    # 1. Send a user to authorize your app\n",
        "    auth_url = ('''https://login.xero.com/identity/connect/authorize?''' +\n",
        "                '''response_type=code''' +\n",
        "                '''&client_id=''' + client_id +\n",
        "                '''&redirect_uri=''' + redirect_url +\n",
        "                '''&scope=''' + scope +\n",
        "                '''&state=123''')\n",
        "    print(\"Open this URL:\\n\")\n",
        "    print(auth_url)\n",
        "\n",
        "    # 2. Users are redirected back to you with a code\n",
        "    auth_res_url = input('What is the response URL? ')\n",
        "    start_number = auth_res_url.find('code=') + len('code=')\n",
        "    end_number = auth_res_url.find('&scope')\n",
        "    auth_code = auth_res_url[start_number:end_number]\n",
        "    print(\"authentication code :\")\n",
        "    print(auth_code)\n",
        "    print('\\n')\n",
        "    \n",
        "    # 3. Exchange the code\n",
        "    exchange_code_url = 'https://identity.xero.com/connect/token'\n",
        "    response = requests.post(exchange_code_url, \n",
        "                            headers = {\n",
        "                                'Authorization': 'Basic ' + b64_id_secret\n",
        "                            },\n",
        "                            data = {\n",
        "                                'grant_type': 'authorization_code',\n",
        "                                'code': auth_code,\n",
        "                                'redirect_uri': redirect_url\n",
        "                            })\n",
        "    json_response = response.json()\n",
        "    print(json_response)\n",
        "    print('\\n')\n",
        "    \n",
        "    # 4. Receive your tokens\n",
        "    return [json_response['access_token'], json_response['refresh_token']]\n"
      ],
      "execution_count": 4,
      "outputs": []
    },
    {
      "cell_type": "code",
      "metadata": {
        "id": "uAmg71yN56Ky",
        "colab": {
          "base_uri": "https://localhost:8080/"
        },
        "outputId": "16fa77f4-6bee-4ea8-987f-8d68372a12f5"
      },
      "source": [
        "# First Time running the script\r\n",
        "old_tokens = XeroFirstAuth()"
      ],
      "execution_count": 5,
      "outputs": [
        {
          "output_type": "stream",
          "text": [
            "Open this URL:\n",
            "\n",
            "https://login.xero.com/identity/connect/authorize?response_type=code&client_id=373EC817108D49C1B29999499B2AAC98&redirect_uri=https://developer.xero.com/&scope=offline_access accounting.transactions&state=123\n",
            "What is the response URL? https://developer.xero.com/?code=48b9df4ba9aa2382d04171ca04e27bed9d492bffd3b682440e24c477cb353c20&scope=accounting.transactions&state=123\n",
            "authentication code :\n",
            "48b9df4ba9aa2382d04171ca04e27bed9d492bffd3b682440e24c477cb353c20\n",
            "\n",
            "\n",
            "{'access_token': 'eyJhbGciOiJSUzI1NiIsImtpZCI6IjFDQUY4RTY2NzcyRDZEQzAyOEQ2NzI2RkQwMjYxNTgxNTcwRUZDMTkiLCJ0eXAiOiJKV1QiLCJ4NXQiOiJISy1PWm5jdGJjQW8xbkp2MENZVmdWY09fQmsifQ.eyJuYmYiOjE2MDc2ODQ3MTksImV4cCI6MTYwNzY4NjUxOSwiaXNzIjoiaHR0cHM6Ly9pZGVudGl0eS54ZXJvLmNvbSIsImF1ZCI6Imh0dHBzOi8vaWRlbnRpdHkueGVyby5jb20vcmVzb3VyY2VzIiwiY2xpZW50X2lkIjoiMzczRUM4MTcxMDhENDlDMUIyOTk5OTQ5OUIyQUFDOTgiLCJzdWIiOiJiMzRkNmE4MzAzYzY1OGJjYjRhNzE4ZTUxNzQ5MzM1ZSIsImF1dGhfdGltZSI6MTYwNzY4MzE1MiwieGVyb191c2VyaWQiOiIzNTJiYWUxMi1mZjc3LTQxZjQtOTM1Zi04Yzc1NDdlYWNhOTkiLCJnbG9iYWxfc2Vzc2lvbl9pZCI6ImM5YzAzNmYyZjg5YTRhOGNiOGU5NGE0MzZlZTM5MWMxIiwianRpIjoiYTBmYjNjZTFmOTExOGUxNGRlZTI3YWIzYzU0MDk1NGUiLCJhdXRoZW50aWNhdGlvbl9ldmVudF9pZCI6IjhjN2QyN2JkLTgyYTMtNDhjYi1hYjQ3LTQwMTIwMGNkZDY5YyIsInNjb3BlIjpbImVtYWlsIiwicHJvZmlsZSIsIm9wZW5pZCIsImFjY291bnRpbmcucmVwb3J0cy5yZWFkIiwiYWNjb3VudGluZy5hdHRhY2htZW50cy5yZWFkIiwicHJvamVjdHMiLCJhY2NvdW50aW5nLnNldHRpbmdzIiwiYWNjb3VudGluZy5zZXR0aW5ncy5yZWFkIiwiYWNjb3VudGluZy5hdHRhY2htZW50cyIsImFjY291bnRpbmcudHJhbnNhY3Rpb25zIiwiYWNjb3VudGluZy5qb3VybmFscy5yZWFkIiwiYWNjb3VudGluZy50cmFuc2FjdGlvbnMucmVhZCIsImFzc2V0cyIsImFjY291bnRpbmcuY29udGFjdHMiLCJhY2NvdW50aW5nLmNvbnRhY3RzLnJlYWQiLCJvZmZsaW5lX2FjY2VzcyJdfQ.j23daxpUBI_jQAICg3eLjlH7UG5OL9E2jLG2RznWKx3VNMc4yLFhhMt__k2mdQuO7CTiEUlHW0shs0HMDr78_krsXKGAAoJRokYEJAQyXE3jn0zzyEI-C_QgV8fzMh1ZDX0nocj7uI0sTKiroMELqGsXb73YqY7KhkQ1PELbnHw4PuN6cWzBlbCT-34l8O56MLZLujSZg7IbCGpclx336j6M2OfY4WO6S5sgmfrBriBqIU9dk08mAsTWQ6SYuIkcc8hN5l0yQbB2n9kuidn_3-buMDXQhgBzLK7A9_Wxat3p4g4Ap9ISqJuV-icm-urJwvEUC_jV0UlwvYr0c-DYMw', 'expires_in': 1800, 'token_type': 'Bearer', 'refresh_token': 'c7446f6cbc603de3b0b5fc39913e11bb693d67bb72966aa188fa6faedd15cf4e', 'scope': 'accounting.transactions offline_access openid profile email accounting.transactions.read accounting.reports.read accounting.journals.read accounting.settings accounting.settings.read accounting.contacts accounting.contacts.read accounting.attachments accounting.attachments.read assets projects'}\n",
            "\n",
            "\n"
          ],
          "name": "stdout"
        }
      ]
    },
    {
      "cell_type": "code",
      "metadata": {
        "id": "j0EKdxEM6DYU"
      },
      "source": [
        "# 5. Check the full set of tenants you've been authorized to access\n",
        "def XeroTenants(access_token):\n",
        "    connections_url = 'https://api.xero.com/connections'\n",
        "    response = requests.get(connections_url,\n",
        "                           headers = {\n",
        "                               'Authorization': 'Bearer ' + access_token,\n",
        "                               'Content-Type': 'application/json'\n",
        "                           })\n",
        "    json_response = response.json()\n",
        "    print(json_response)\n",
        "    \n",
        "    for tenants in json_response:\n",
        "        json_dict = tenants\n",
        "    return json_dict['tenantId']"
      ],
      "execution_count": 6,
      "outputs": []
    },
    {
      "cell_type": "code",
      "metadata": {
        "id": "qmYFiinyF720",
        "colab": {
          "base_uri": "https://localhost:8080/",
          "height": 72
        },
        "outputId": "c66f5836-e176-415c-cba9-8d74c97478e3"
      },
      "source": [
        "XeroTenants(old_tokens[0])"
      ],
      "execution_count": 7,
      "outputs": [
        {
          "output_type": "stream",
          "text": [
            "[{'id': 'a98ea6e7-91c5-4d82-a147-026f8ca3acc5', 'authEventId': '6c0081d3-72c1-41c2-ae89-4a729b32b93d', 'tenantId': '1a4382f0-f825-4ec9-b097-6fa33995375e', 'tenantType': 'ORGANISATION', 'tenantName': 'Darko', 'createdDateUtc': '2020-12-10T13:44:48.2478490', 'updatedDateUtc': '2020-12-10T13:44:48.2502800'}, {'id': '2406793e-84ec-4a94-a719-1eb4a5e0f3cc', 'authEventId': 'b8231f6a-a963-4565-8f56-1c5c92f2f0d9', 'tenantId': '5cec262b-1eaf-4265-8424-f103701ef432', 'tenantType': 'ORGANISATION', 'tenantName': 'Demo Company (Global)', 'createdDateUtc': '2020-12-10T13:24:01.0465440', 'updatedDateUtc': '2020-12-10T13:24:01.0487380'}]\n"
          ],
          "name": "stdout"
        },
        {
          "output_type": "execute_result",
          "data": {
            "application/vnd.google.colaboratory.intrinsic+json": {
              "type": "string"
            },
            "text/plain": [
              "'5cec262b-1eaf-4265-8424-f103701ef432'"
            ]
          },
          "metadata": {
            "tags": []
          },
          "execution_count": 7
        }
      ]
    },
    {
      "cell_type": "code",
      "metadata": {
        "colab": {
          "base_uri": "https://localhost:8080/"
        },
        "id": "T52tRvPTtXhk",
        "outputId": "b3702f2a-3927-4414-bcfd-725bcc5f98b4"
      },
      "source": [
        "from google.colab import drive\r\n",
        "drive.mount('/content/drive')"
      ],
      "execution_count": 8,
      "outputs": [
        {
          "output_type": "stream",
          "text": [
            "Mounted at /content/drive\n"
          ],
          "name": "stdout"
        }
      ]
    },
    {
      "cell_type": "code",
      "metadata": {
        "id": "77DM4lheGCOO"
      },
      "source": [
        "# 6.1 Refreshing access tokens\n",
        "def XeroRefreshToken(refresh_token):\n",
        "    token_refresh_url = 'https://identity.xero.com/connect/token'\n",
        "    response = requests.post(token_refresh_url,\n",
        "                            headers = {\n",
        "                                'Authorization' : 'Basic ' + b64_id_secret,\n",
        "                                'Content-Type': 'application/x-www-form-urlencoded'\n",
        "                            },\n",
        "                            data = {\n",
        "                                'grant_type' : 'refresh_token',\n",
        "                                'refresh_token' : refresh_token\n",
        "                            })\n",
        "    json_response = response.json()\n",
        "    print(json_response)\n",
        "    \n",
        "    new_refresh_token = json_response['refresh_token']\n",
        "    rt_file = open('/content/drive/My Drive/data/refresh_token.txt', 'w')\n",
        "    rt_file.write(new_refresh_token)\n",
        "    rt_file.close()\n",
        "    \n",
        "    return [json_response['access_token'], json_response['refresh_token']]"
      ],
      "execution_count": 9,
      "outputs": []
    },
    {
      "cell_type": "code",
      "metadata": {
        "colab": {
          "base_uri": "https://localhost:8080/"
        },
        "id": "k5lVCevQuhiK",
        "outputId": "4c7bf8ff-6c63-4fa5-a799-926918fe8e70"
      },
      "source": [
        "XeroRefreshToken(old_tokens[1])"
      ],
      "execution_count": 10,
      "outputs": [
        {
          "output_type": "stream",
          "text": [
            "{'id_token': 'eyJhbGciOiJSUzI1NiIsImtpZCI6IjFDQUY4RTY2NzcyRDZEQzAyOEQ2NzI2RkQwMjYxNTgxNTcwRUZDMTkiLCJ0eXAiOiJKV1QiLCJ4NXQiOiJISy1PWm5jdGJjQW8xbkp2MENZVmdWY09fQmsifQ.eyJuYmYiOjE2MDc2ODQ5MTgsImV4cCI6MTYwNzY4NTIxOCwiaXNzIjoiaHR0cHM6Ly9pZGVudGl0eS54ZXJvLmNvbSIsImF1ZCI6IjM3M0VDODE3MTA4RDQ5QzFCMjk5OTk0OTlCMkFBQzk4IiwiaWF0IjoxNjA3Njg0OTE4LCJhdF9oYXNoIjoidnZJQXlGTXhhZjkxUjNWSFNpTXVMQSIsInN1YiI6ImIzNGQ2YTgzMDNjNjU4YmNiNGE3MThlNTE3NDkzMzVlIiwiYXV0aF90aW1lIjoxNjA3NjgzMTUyLCJ4ZXJvX3VzZXJpZCI6IjM1MmJhZTEyLWZmNzctNDFmNC05MzVmLThjNzU0N2VhY2E5OSIsImdsb2JhbF9zZXNzaW9uX2lkIjoiYzljMDM2ZjJmODlhNGE4Y2I4ZTk0YTQzNmVlMzkxYzEiLCJwcmVmZXJyZWRfdXNlcm5hbWUiOiJoYXJpc2h2MTk5OUBnbWFpbC5jb20iLCJlbWFpbCI6ImhhcmlzaHYxOTk5QGdtYWlsLmNvbSIsImdpdmVuX25hbWUiOiJIYXJpc2giLCJmYW1pbHlfbmFtZSI6IlYifQ.bbYIFu-5RGmU_dDdVGZ35Jy8_WRhfyGqIIQkFxQ2UNxkal3Xb9FFCsMQKgbkdYypLMtBKTJAUoBE-V5FzX0mIg5tCamkOSS90oXqKMPunBe4T5kCpU6KQAjaKMldKGE57SWN-VG_7fV8Q1y5S_GQ4vtKFI7hzEn3QxS737yQJPDf6IO_vZEzXLVL95EgNWesKUwkokzK77FKcSmwxqMC9_K0Nm6nO3BhICVg0Fqv_LwzsduaXZL3xznHyMheUifS3ICZxiINzpHHb4wlPrTUP8h35ODxjkD6YeGj5HsKraKs4zudZLRI0G5wWSvOYRMBKSrlF4o-YL79-_H-3zRcoQ', 'access_token': 'eyJhbGciOiJSUzI1NiIsImtpZCI6IjFDQUY4RTY2NzcyRDZEQzAyOEQ2NzI2RkQwMjYxNTgxNTcwRUZDMTkiLCJ0eXAiOiJKV1QiLCJ4NXQiOiJISy1PWm5jdGJjQW8xbkp2MENZVmdWY09fQmsifQ.eyJuYmYiOjE2MDc2ODQ5MTgsImV4cCI6MTYwNzY4NjcxOCwiaXNzIjoiaHR0cHM6Ly9pZGVudGl0eS54ZXJvLmNvbSIsImF1ZCI6Imh0dHBzOi8vaWRlbnRpdHkueGVyby5jb20vcmVzb3VyY2VzIiwiY2xpZW50X2lkIjoiMzczRUM4MTcxMDhENDlDMUIyOTk5OTQ5OUIyQUFDOTgiLCJzdWIiOiJiMzRkNmE4MzAzYzY1OGJjYjRhNzE4ZTUxNzQ5MzM1ZSIsImF1dGhfdGltZSI6MTYwNzY4MzE1MiwieGVyb191c2VyaWQiOiIzNTJiYWUxMi1mZjc3LTQxZjQtOTM1Zi04Yzc1NDdlYWNhOTkiLCJnbG9iYWxfc2Vzc2lvbl9pZCI6ImM5YzAzNmYyZjg5YTRhOGNiOGU5NGE0MzZlZTM5MWMxIiwianRpIjoiYTBmYjNjZTFmOTExOGUxNGRlZTI3YWIzYzU0MDk1NGUiLCJhdXRoZW50aWNhdGlvbl9ldmVudF9pZCI6IjhjN2QyN2JkLTgyYTMtNDhjYi1hYjQ3LTQwMTIwMGNkZDY5YyIsInNjb3BlIjpbImVtYWlsIiwicHJvZmlsZSIsIm9wZW5pZCIsImFjY291bnRpbmcucmVwb3J0cy5yZWFkIiwiYWNjb3VudGluZy5hdHRhY2htZW50cy5yZWFkIiwicHJvamVjdHMiLCJhY2NvdW50aW5nLnNldHRpbmdzIiwiYWNjb3VudGluZy5zZXR0aW5ncy5yZWFkIiwiYWNjb3VudGluZy5hdHRhY2htZW50cyIsImFjY291bnRpbmcudHJhbnNhY3Rpb25zIiwiYWNjb3VudGluZy5qb3VybmFscy5yZWFkIiwiYWNjb3VudGluZy50cmFuc2FjdGlvbnMucmVhZCIsImFzc2V0cyIsImFjY291bnRpbmcuY29udGFjdHMiLCJhY2NvdW50aW5nLmNvbnRhY3RzLnJlYWQiLCJvZmZsaW5lX2FjY2VzcyJdfQ.hqTxv1nmP5bunS1Vcaa85B3aKRG2I6irAYvCCce8mknx8tHw3H-r1qN37mf4gRlYE78rbgaas3WL2NjJ0HGIuZC6AoDWfa_rSODbevsuFcB_3BvDG7ASJFc9rEoXY2GB9AwvLHNz5nqrxw-Y1KLyz3bzmp4TMy_j0H5lqGH0vHLwIagIkcQTtF6DSLWaKrN2f6wcFKDUC8fxAQ_BRl02w-r4vjfS0ctW8HdTAPODEt279V0B614abTHPrtyY41m7PzDQJgh1sTS9MhnNngxNmKIkQaDsmTRK0zkSpeItIJEoVOtcd86Wj6n0rWJKD261hc0dvpwJZHf7gVH6FYy2tw', 'expires_in': 1800, 'token_type': 'Bearer', 'refresh_token': '7a2a34f5f33bdb544ee223af61e83d43e379a1d037b291cbbdebe9b153429ef0', 'scope': 'email profile openid accounting.reports.read accounting.attachments.read projects accounting.settings accounting.settings.read accounting.attachments accounting.transactions accounting.journals.read accounting.transactions.read assets accounting.contacts accounting.contacts.read offline_access'}\n"
          ],
          "name": "stdout"
        },
        {
          "output_type": "execute_result",
          "data": {
            "text/plain": [
              "['eyJhbGciOiJSUzI1NiIsImtpZCI6IjFDQUY4RTY2NzcyRDZEQzAyOEQ2NzI2RkQwMjYxNTgxNTcwRUZDMTkiLCJ0eXAiOiJKV1QiLCJ4NXQiOiJISy1PWm5jdGJjQW8xbkp2MENZVmdWY09fQmsifQ.eyJuYmYiOjE2MDc2ODQ5MTgsImV4cCI6MTYwNzY4NjcxOCwiaXNzIjoiaHR0cHM6Ly9pZGVudGl0eS54ZXJvLmNvbSIsImF1ZCI6Imh0dHBzOi8vaWRlbnRpdHkueGVyby5jb20vcmVzb3VyY2VzIiwiY2xpZW50X2lkIjoiMzczRUM4MTcxMDhENDlDMUIyOTk5OTQ5OUIyQUFDOTgiLCJzdWIiOiJiMzRkNmE4MzAzYzY1OGJjYjRhNzE4ZTUxNzQ5MzM1ZSIsImF1dGhfdGltZSI6MTYwNzY4MzE1MiwieGVyb191c2VyaWQiOiIzNTJiYWUxMi1mZjc3LTQxZjQtOTM1Zi04Yzc1NDdlYWNhOTkiLCJnbG9iYWxfc2Vzc2lvbl9pZCI6ImM5YzAzNmYyZjg5YTRhOGNiOGU5NGE0MzZlZTM5MWMxIiwianRpIjoiYTBmYjNjZTFmOTExOGUxNGRlZTI3YWIzYzU0MDk1NGUiLCJhdXRoZW50aWNhdGlvbl9ldmVudF9pZCI6IjhjN2QyN2JkLTgyYTMtNDhjYi1hYjQ3LTQwMTIwMGNkZDY5YyIsInNjb3BlIjpbImVtYWlsIiwicHJvZmlsZSIsIm9wZW5pZCIsImFjY291bnRpbmcucmVwb3J0cy5yZWFkIiwiYWNjb3VudGluZy5hdHRhY2htZW50cy5yZWFkIiwicHJvamVjdHMiLCJhY2NvdW50aW5nLnNldHRpbmdzIiwiYWNjb3VudGluZy5zZXR0aW5ncy5yZWFkIiwiYWNjb3VudGluZy5hdHRhY2htZW50cyIsImFjY291bnRpbmcudHJhbnNhY3Rpb25zIiwiYWNjb3VudGluZy5qb3VybmFscy5yZWFkIiwiYWNjb3VudGluZy50cmFuc2FjdGlvbnMucmVhZCIsImFzc2V0cyIsImFjY291bnRpbmcuY29udGFjdHMiLCJhY2NvdW50aW5nLmNvbnRhY3RzLnJlYWQiLCJvZmZsaW5lX2FjY2VzcyJdfQ.hqTxv1nmP5bunS1Vcaa85B3aKRG2I6irAYvCCce8mknx8tHw3H-r1qN37mf4gRlYE78rbgaas3WL2NjJ0HGIuZC6AoDWfa_rSODbevsuFcB_3BvDG7ASJFc9rEoXY2GB9AwvLHNz5nqrxw-Y1KLyz3bzmp4TMy_j0H5lqGH0vHLwIagIkcQTtF6DSLWaKrN2f6wcFKDUC8fxAQ_BRl02w-r4vjfS0ctW8HdTAPODEt279V0B614abTHPrtyY41m7PzDQJgh1sTS9MhnNngxNmKIkQaDsmTRK0zkSpeItIJEoVOtcd86Wj6n0rWJKD261hc0dvpwJZHf7gVH6FYy2tw',\n",
              " '7a2a34f5f33bdb544ee223af61e83d43e379a1d037b291cbbdebe9b153429ef0']"
            ]
          },
          "metadata": {
            "tags": []
          },
          "execution_count": 10
        }
      ]
    },
    {
      "cell_type": "code",
      "metadata": {
        "id": "08VRH5RaGDS0"
      },
      "source": [
        "# 6.2 Call the API\n",
        "def XeroRequests():\n",
        "    old_refresh_token = open('/content/drive/My Drive/data/refresh_token.txt', 'r').read()\n",
        "    new_tokens = XeroRefreshToken(old_refresh_token)\n",
        "    xero_tenant_id = XeroTenants(new_tokens[0])\n",
        "    print(xero_tenant_id)\n",
        "    get_url = 'https://api.xero.com/api.xro/2.0/Invoices'\n",
        "    response = requests.get(get_url,\n",
        "                           headers = {\n",
        "                               'Authorization': 'Bearer ' + new_tokens[0],\n",
        "                               'Xero-tenant-id': xero_tenant_id,\n",
        "                               'Accept': 'application/json'\n",
        "                           })\n",
        "    json_response = response.json()\n",
        "    print(json_response)\n",
        "    \n",
        "    xero_output = open('/content/drive/My Drive/data/xero_output.txt', 'w')\n",
        "    xero_output.write(response.text)\n",
        "    xero_output.close()"
      ],
      "execution_count": 11,
      "outputs": []
    },
    {
      "cell_type": "code",
      "metadata": {
        "colab": {
          "base_uri": "https://localhost:8080/"
        },
        "id": "19fA_4QevPb1",
        "outputId": "a7cdce47-8f87-4313-859a-ae5108a4462f"
      },
      "source": [
        "# Every other time\r\n",
        "XeroRequests()"
      ],
      "execution_count": 12,
      "outputs": [
        {
          "output_type": "stream",
          "text": [
            "{'id_token': 'eyJhbGciOiJSUzI1NiIsImtpZCI6IjFDQUY4RTY2NzcyRDZEQzAyOEQ2NzI2RkQwMjYxNTgxNTcwRUZDMTkiLCJ0eXAiOiJKV1QiLCJ4NXQiOiJISy1PWm5jdGJjQW8xbkp2MENZVmdWY09fQmsifQ.eyJuYmYiOjE2MDc2ODQ5MzIsImV4cCI6MTYwNzY4NTIzMiwiaXNzIjoiaHR0cHM6Ly9pZGVudGl0eS54ZXJvLmNvbSIsImF1ZCI6IjM3M0VDODE3MTA4RDQ5QzFCMjk5OTk0OTlCMkFBQzk4IiwiaWF0IjoxNjA3Njg0OTMyLCJhdF9oYXNoIjoib0FtMDdUSF9BZ3BXVk5SQVBSTFk0QSIsInN1YiI6ImIzNGQ2YTgzMDNjNjU4YmNiNGE3MThlNTE3NDkzMzVlIiwiYXV0aF90aW1lIjoxNjA3NjgzMTUyLCJ4ZXJvX3VzZXJpZCI6IjM1MmJhZTEyLWZmNzctNDFmNC05MzVmLThjNzU0N2VhY2E5OSIsImdsb2JhbF9zZXNzaW9uX2lkIjoiYzljMDM2ZjJmODlhNGE4Y2I4ZTk0YTQzNmVlMzkxYzEiLCJwcmVmZXJyZWRfdXNlcm5hbWUiOiJoYXJpc2h2MTk5OUBnbWFpbC5jb20iLCJlbWFpbCI6ImhhcmlzaHYxOTk5QGdtYWlsLmNvbSIsImdpdmVuX25hbWUiOiJIYXJpc2giLCJmYW1pbHlfbmFtZSI6IlYifQ.EEJm-zEWZwcvpYSi-H5lUMCYWS8XjB91q82okcLo6HR4MQcpPBvLG_WLDju-j0cFhCFOS94VDYDVKomXYIakpaOeZc-sI3dZ5FLh0zkqidL5DJo8CE2csFwR6P13XCP6dgWpEBlisu9nxxZ42GzxtLunzlAIKcBNjfF41Wnle1d_mCiJvRUZRjibf7qZ9Nsz9-F01YDd5PzCRzcOZa6g8hjj1ZxMmFC2PKtIafsSHOdqDTI1RZJ_XejoF2FCDVfSi8X4Q9kYRP9Cr8eLQoz_4YE4jnQ1gHn50ZLxj741zS-zZF0BvQ_Vc7XBxjnHWPjyaJJH9n5LKs73nqIsLxrVrA', 'access_token': 'eyJhbGciOiJSUzI1NiIsImtpZCI6IjFDQUY4RTY2NzcyRDZEQzAyOEQ2NzI2RkQwMjYxNTgxNTcwRUZDMTkiLCJ0eXAiOiJKV1QiLCJ4NXQiOiJISy1PWm5jdGJjQW8xbkp2MENZVmdWY09fQmsifQ.eyJuYmYiOjE2MDc2ODQ5MzIsImV4cCI6MTYwNzY4NjczMiwiaXNzIjoiaHR0cHM6Ly9pZGVudGl0eS54ZXJvLmNvbSIsImF1ZCI6Imh0dHBzOi8vaWRlbnRpdHkueGVyby5jb20vcmVzb3VyY2VzIiwiY2xpZW50X2lkIjoiMzczRUM4MTcxMDhENDlDMUIyOTk5OTQ5OUIyQUFDOTgiLCJzdWIiOiJiMzRkNmE4MzAzYzY1OGJjYjRhNzE4ZTUxNzQ5MzM1ZSIsImF1dGhfdGltZSI6MTYwNzY4MzE1MiwieGVyb191c2VyaWQiOiIzNTJiYWUxMi1mZjc3LTQxZjQtOTM1Zi04Yzc1NDdlYWNhOTkiLCJnbG9iYWxfc2Vzc2lvbl9pZCI6ImM5YzAzNmYyZjg5YTRhOGNiOGU5NGE0MzZlZTM5MWMxIiwianRpIjoiYTBmYjNjZTFmOTExOGUxNGRlZTI3YWIzYzU0MDk1NGUiLCJhdXRoZW50aWNhdGlvbl9ldmVudF9pZCI6IjhjN2QyN2JkLTgyYTMtNDhjYi1hYjQ3LTQwMTIwMGNkZDY5YyIsInNjb3BlIjpbImVtYWlsIiwicHJvZmlsZSIsIm9wZW5pZCIsImFjY291bnRpbmcucmVwb3J0cy5yZWFkIiwiYWNjb3VudGluZy5hdHRhY2htZW50cy5yZWFkIiwicHJvamVjdHMiLCJhY2NvdW50aW5nLnNldHRpbmdzIiwiYWNjb3VudGluZy5zZXR0aW5ncy5yZWFkIiwiYWNjb3VudGluZy5hdHRhY2htZW50cyIsImFjY291bnRpbmcudHJhbnNhY3Rpb25zIiwiYWNjb3VudGluZy5qb3VybmFscy5yZWFkIiwiYWNjb3VudGluZy50cmFuc2FjdGlvbnMucmVhZCIsImFzc2V0cyIsImFjY291bnRpbmcuY29udGFjdHMiLCJhY2NvdW50aW5nLmNvbnRhY3RzLnJlYWQiLCJvZmZsaW5lX2FjY2VzcyJdfQ.dXLIFdtRMARRpJdPbJOj9B6qH8HrS5p5dvoEVZhQ69Lh342MkuqAGImbVxnssJ3xvHqllc7uNtB_oZ_QtyFHxORmFfh4v7TupxEG106KQMe4ZrJ0G7CfvIgKKOiyMzJVepKJxqDEiHjQUfByTooQCH74d5ZCFpNmjJGqKkgxOEqh6E0opVyn_FK1qDj6z9Vt8GnFUmlDzNy0kc6275gJ8uBBAIJ60lkXcK1YEEvrUX3V2-fVxpdLCmUCaaCsMrJc9HdS2DwZaOBDdV9LTOuZeD9hLwwaF6aZOBhy6pTECJMIigu7QMniN2AOtbyptH8lZmhCGvEBf2jRW2VhfgU_Ug', 'expires_in': 1800, 'token_type': 'Bearer', 'refresh_token': 'e23193f948a801857eff272f5ec0ab13ac1c94f68a580cb6ce4dbe2d5cb42bff', 'scope': 'email profile openid accounting.reports.read accounting.attachments.read projects accounting.settings accounting.settings.read accounting.attachments accounting.transactions accounting.journals.read accounting.transactions.read assets accounting.contacts accounting.contacts.read offline_access'}\n",
            "[{'id': 'a98ea6e7-91c5-4d82-a147-026f8ca3acc5', 'authEventId': '6c0081d3-72c1-41c2-ae89-4a729b32b93d', 'tenantId': '1a4382f0-f825-4ec9-b097-6fa33995375e', 'tenantType': 'ORGANISATION', 'tenantName': 'Darko', 'createdDateUtc': '2020-12-10T13:44:48.2478490', 'updatedDateUtc': '2020-12-10T13:44:48.2502800'}, {'id': '2406793e-84ec-4a94-a719-1eb4a5e0f3cc', 'authEventId': 'b8231f6a-a963-4565-8f56-1c5c92f2f0d9', 'tenantId': '5cec262b-1eaf-4265-8424-f103701ef432', 'tenantType': 'ORGANISATION', 'tenantName': 'Demo Company (Global)', 'createdDateUtc': '2020-12-10T13:24:01.0465440', 'updatedDateUtc': '2020-12-10T13:24:01.0487380'}]\n",
            "5cec262b-1eaf-4265-8424-f103701ef432\n",
            "{'Id': '1eaffd60-bffe-4ca9-a748-a94058e95326', 'Status': 'OK', 'ProviderName': 'OAuth 2.0 demo', 'DateTimeUTC': '/Date(1607684933356)/', 'Invoices': [{'Type': 'ACCREC', 'InvoiceID': 'fee88eea-f2aa-4a71-a372-33d6d83d3c45', 'InvoiceNumber': 'INV-0027', 'Reference': 'Ref MK815', 'Payments': [], 'CreditNotes': [], 'Prepayments': [], 'Overpayments': [], 'AmountDue': 396.0, 'AmountPaid': 0.0, 'AmountCredited': 0.0, 'CurrencyRate': 1.0, 'IsDiscounted': False, 'HasAttachments': False, 'HasErrors': False, 'Contact': {'ContactID': '5b96e86b-418e-48e8-8949-308c14aec278', 'Name': 'Marine Systems', 'Addresses': [], 'Phones': [], 'ContactGroups': [], 'ContactPersons': [], 'HasValidationErrors': False}, 'DateString': '2020-12-05T00:00:00', 'Date': '/Date(1607126400000+0000)/', 'DueDateString': '2020-12-11T00:00:00', 'DueDate': '/Date(1607644800000+0000)/', 'BrandingThemeID': 'd613f7f9-8fcb-477f-97f0-31eb85b7e5cf', 'Status': 'AUTHORISED', 'LineAmountTypes': 'Inclusive', 'LineItems': [], 'SubTotal': 365.82, 'TotalTax': 30.18, 'Total': 396.0, 'UpdatedDateUTC': '/Date(1229650679057+0000)/', 'CurrencyCode': 'USD'}, {'Type': 'ACCPAY', 'InvoiceID': '9f5bca33-8590-4b6f-acfb-e85712b10217', 'InvoiceNumber': 'AP', 'Reference': '', 'Payments': [], 'CreditNotes': [], 'Prepayments': [], 'Overpayments': [], 'AmountDue': 59.54, 'AmountPaid': 0.0, 'AmountCredited': 0.0, 'IsDiscounted': False, 'HasAttachments': False, 'HasErrors': False, 'RepeatingInvoiceID': '7f9d8073-f224-43d4-bfa9-a8925f25e0ec', 'Contact': {'ContactID': '78b7299c-4f1f-46d2-acc3-44a46bd361b1', 'Name': 'Swanston Security', 'Addresses': [], 'Phones': [], 'ContactGroups': [], 'ContactPersons': [], 'HasValidationErrors': False}, 'DateString': '2020-11-15T00:00:00', 'Date': '/Date(1605398400000+0000)/', 'DueDateString': '2020-11-22T00:00:00', 'DueDate': '/Date(1606003200000+0000)/', 'Status': 'AUTHORISED', 'LineAmountTypes': 'Exclusive', 'LineItems': [], 'SubTotal': 55.0, 'TotalTax': 4.54, 'Total': 59.54, 'UpdatedDateUTC': '/Date(1229791233740+0000)/', 'CurrencyCode': 'USD'}, {'Type': 'ACCPAY', 'InvoiceID': '8a3fdcc9-83eb-4fdd-83e0-52ec1b40b072', 'InvoiceNumber': 'AP', 'Reference': '', 'Payments': [], 'CreditNotes': [], 'Prepayments': [], 'Overpayments': [], 'AmountDue': 31.39, 'AmountPaid': 0.0, 'AmountCredited': 0.0, 'IsDiscounted': False, 'HasAttachments': False, 'HasErrors': False, 'RepeatingInvoiceID': '01e01427-6b48-4d5f-aa2e-87c43f2a32a9', 'Contact': {'ContactID': '3b30a108-9156-4a42-a893-3bbbe7af1ef8', 'Name': 'Xero', 'Addresses': [], 'Phones': [], 'ContactGroups': [], 'ContactPersons': [], 'HasValidationErrors': False}, 'DateString': '2020-12-02T00:00:00', 'Date': '/Date(1606867200000+0000)/', 'DueDateString': '2020-12-02T00:00:00', 'DueDate': '/Date(1606867200000+0000)/', 'Status': 'AUTHORISED', 'LineAmountTypes': 'Exclusive', 'LineItems': [], 'SubTotal': 29.0, 'TotalTax': 2.39, 'Total': 31.39, 'UpdatedDateUTC': '/Date(1229791330237+0000)/', 'CurrencyCode': 'USD'}, {'Type': 'ACCREC', 'InvoiceID': '4c4db294-3633-45cd-8706-f0b3b0079609', 'InvoiceNumber': 'INV-0010', 'Reference': 'Training', 'Payments': [], 'CreditNotes': [{'CreditNoteID': '602f5486-664e-492f-b4d1-e12df1d4b8ba', 'CreditNoteNumber': 'CN-0014', 'ID': '602f5486-664e-492f-b4d1-e12df1d4b8ba', 'HasErrors': False, 'AppliedAmount': 541.25, 'DateString': '2020-10-24T00:00:00', 'Date': '/Date(1603497600000+0000)/', 'LineItems': [], 'Total': 541.25}], 'Prepayments': [], 'Overpayments': [], 'AmountDue': 0.0, 'AmountPaid': 0.0, 'AmountCredited': 541.25, 'IsDiscounted': False, 'HasAttachments': False, 'HasErrors': False, 'Contact': {'ContactID': '37918a06-92f6-4edb-bfe0-1fc041c90f8b', 'Name': 'Boom FM', 'Addresses': [], 'Phones': [], 'ContactGroups': [], 'ContactPersons': [], 'HasValidationErrors': False}, 'DateString': '2020-10-13T00:00:00', 'Date': '/Date(1602547200000+0000)/', 'DueDateString': '2020-10-26T00:00:00', 'DueDate': '/Date(1603670400000+0000)/', 'Status': 'PAID', 'LineAmountTypes': 'Exclusive', 'LineItems': [], 'SubTotal': 500.0, 'TotalTax': 41.25, 'Total': 541.25, 'UpdatedDateUTC': '/Date(1229794712660+0000)/', 'CurrencyCode': 'USD', 'FullyPaidOnDate': '/Date(1603497600000+0000)/'}, {'Type': 'ACCREC', 'InvoiceID': 'b7e0c5f4-9f52-4126-b102-45fd12eaa3ca', 'InvoiceNumber': 'INV-0005', 'Reference': 'Monthly Support', 'Payments': [], 'CreditNotes': [{'CreditNoteID': '694c1f99-8085-416c-9ace-40f911303229', 'CreditNoteNumber': 'CN-0015', 'ID': '694c1f99-8085-416c-9ace-40f911303229', 'HasErrors': False, 'AppliedAmount': 541.25, 'DateString': '2020-11-15T00:00:00', 'Date': '/Date(1605398400000+0000)/', 'LineItems': [], 'Total': 541.25}], 'Prepayments': [], 'Overpayments': [], 'AmountDue': 0.0, 'AmountPaid': 0.0, 'AmountCredited': 541.25, 'IsDiscounted': False, 'HasAttachments': False, 'HasErrors': False, 'Contact': {'ContactID': 'fd89489e-699c-4d77-a881-10c127bfbeb3', 'Name': 'Hamilton Smith Ltd', 'Addresses': [], 'Phones': [], 'ContactGroups': [], 'ContactPersons': [], 'HasValidationErrors': False}, 'DateString': '2020-10-06T00:00:00', 'Date': '/Date(1601942400000+0000)/', 'DueDateString': '2020-10-16T00:00:00', 'DueDate': '/Date(1602806400000+0000)/', 'Status': 'PAID', 'LineAmountTypes': 'Exclusive', 'LineItems': [], 'SubTotal': 500.0, 'TotalTax': 41.25, 'Total': 541.25, 'UpdatedDateUTC': '/Date(1229794794077+0000)/', 'CurrencyCode': 'USD', 'FullyPaidOnDate': '/Date(1605398400000+0000)/'}, {'Type': 'ACCREC', 'InvoiceID': '07e71ce4-9801-4cce-914b-dc07e9c0ca5e', 'InvoiceNumber': 'INV-0017', 'Reference': 'Book', 'Payments': [], 'CreditNotes': [], 'Prepayments': [], 'Overpayments': [], 'AmountDue': 21.7, 'AmountPaid': 0.0, 'AmountCredited': 0.0, 'SentToContact': True, 'IsDiscounted': False, 'HasAttachments': False, 'HasErrors': False, 'Contact': {'ContactID': '7c913d33-39d5-4a1c-b8b1-e23f5fc999e0', 'Name': 'City Limousines', 'Addresses': [], 'Phones': [], 'ContactGroups': [], 'ContactPersons': [], 'HasValidationErrors': False}, 'DateString': '2020-10-24T00:00:00', 'Date': '/Date(1603497600000+0000)/', 'DueDateString': '2020-11-03T00:00:00', 'DueDate': '/Date(1604361600000+0000)/', 'Status': 'AUTHORISED', 'LineAmountTypes': 'Exclusive', 'LineItems': [], 'SubTotal': 19.95, 'TotalTax': 1.75, 'Total': 21.7, 'UpdatedDateUTC': '/Date(1229796699267+0000)/', 'CurrencyCode': 'USD'}, {'Type': 'ACCPAY', 'InvoiceID': '3a669bd8-b601-4b9a-81d4-cb03f1af3059', 'InvoiceNumber': 'AP', 'Reference': '', 'Payments': [{'PaymentID': 'dac50c7a-d12b-440c-b907-fae1bbbc36a1', 'Date': '/Date(1604275200000+0000)/', 'Amount': 31.39, 'Reference': 'Ref 08162', 'HasAccount': False, 'HasValidationErrors': False}], 'CreditNotes': [], 'Prepayments': [], 'Overpayments': [], 'AmountDue': 0.0, 'AmountPaid': 31.39, 'AmountCredited': 0.0, 'IsDiscounted': False, 'HasAttachments': False, 'HasErrors': False, 'RepeatingInvoiceID': '01e01427-6b48-4d5f-aa2e-87c43f2a32a9', 'Contact': {'ContactID': '3b30a108-9156-4a42-a893-3bbbe7af1ef8', 'Name': 'Xero', 'Addresses': [], 'Phones': [], 'ContactGroups': [], 'ContactPersons': [], 'HasValidationErrors': False}, 'DateString': '2020-10-02T00:00:00', 'Date': '/Date(1601596800000+0000)/', 'DueDateString': '2020-10-02T00:00:00', 'DueDate': '/Date(1601596800000+0000)/', 'Status': 'PAID', 'LineAmountTypes': 'Exclusive', 'LineItems': [], 'SubTotal': 29.0, 'TotalTax': 2.39, 'Total': 31.39, 'UpdatedDateUTC': '/Date(1229798355777+0000)/', 'CurrencyCode': 'USD', 'FullyPaidOnDate': '/Date(1604275200000+0000)/'}, {'Type': 'ACCPAY', 'InvoiceID': '6a77611c-f9af-483b-aa6e-d0fd23137394', 'InvoiceNumber': 'RENT', 'Reference': '', 'Payments': [{'PaymentID': '63dd1e8e-a600-4ff1-aa10-f2cf43fefc94', 'Date': '/Date(1602720000000+0000)/', 'Amount': 1181.25, 'Reference': 'FP089876', 'HasAccount': False, 'HasValidationErrors': False}], 'CreditNotes': [], 'Prepayments': [], 'Overpayments': [], 'AmountDue': 0.0, 'AmountPaid': 1181.25, 'AmountCredited': 0.0, 'IsDiscounted': False, 'HasAttachments': False, 'HasErrors': False, 'RepeatingInvoiceID': 'dcd26e24-a848-4492-a452-695b88f66abc', 'Contact': {'ContactID': 'f4af0a9b-e710-4611-8618-4360944ce1f3', 'Name': 'Truxton Property Management', 'Addresses': [], 'Phones': [], 'ContactGroups': [], 'ContactPersons': [], 'HasValidationErrors': False}, 'DateString': '2020-10-05T00:00:00', 'Date': '/Date(1601856000000+0000)/', 'DueDateString': '2020-10-05T00:00:00', 'DueDate': '/Date(1601856000000+0000)/', 'Status': 'PAID', 'LineAmountTypes': 'Inclusive', 'LineItems': [], 'SubTotal': 1091.22, 'TotalTax': 90.03, 'Total': 1181.25, 'UpdatedDateUTC': '/Date(1229798536177+0000)/', 'CurrencyCode': 'USD', 'FullyPaidOnDate': '/Date(1602720000000+0000)/'}, {'Type': 'ACCPAY', 'InvoiceID': '28a34ad7-6c41-4d92-8312-cd07f8328e90', 'InvoiceNumber': 'Rpt', 'Reference': '', 'Payments': [{'PaymentID': '2ea66d76-84d6-485a-ba67-148037a0b576', 'Date': '/Date(1602720000000+0000)/', 'Amount': 119.08, 'Reference': 'FP089876', 'HasAccount': False, 'HasValidationErrors': False}], 'CreditNotes': [], 'Prepayments': [], 'Overpayments': [], 'AmountDue': 0.0, 'AmountPaid': 119.08, 'AmountCredited': 0.0, 'IsDiscounted': False, 'HasAttachments': False, 'HasErrors': False, 'RepeatingInvoiceID': '9bcc1e13-3e4a-47c5-a300-249bff8a00f6', 'Contact': {'ContactID': '8f48b066-e047-459d-80dd-d495b36608d0', 'Name': 'PowerDirect', 'Addresses': [], 'Phones': [], 'ContactGroups': [], 'ContactPersons': [], 'HasValidationErrors': False}, 'DateString': '2020-10-05T00:00:00', 'Date': '/Date(1601856000000+0000)/', 'DueDateString': '2020-10-15T00:00:00', 'DueDate': '/Date(1602720000000+0000)/', 'Status': 'PAID', 'LineAmountTypes': 'Exclusive', 'LineItems': [], 'SubTotal': 110.0, 'TotalTax': 9.08, 'Total': 119.08, 'UpdatedDateUTC': '/Date(1229798562287+0000)/', 'CurrencyCode': 'USD', 'FullyPaidOnDate': '/Date(1602720000000+0000)/'}, {'Type': 'ACCPAY', 'InvoiceID': '824c6c13-b7a5-49a2-99bd-4a6d77f7866e', 'InvoiceNumber': '', 'Reference': '', 'Payments': [{'PaymentID': 'ea89abd7-b942-4a69-a652-854cbd5f799e', 'Date': '/Date(1602720000000+0000)/', 'Amount': 1682.74, 'Reference': 'FP089876', 'HasAccount': False, 'HasValidationErrors': False}], 'CreditNotes': [{'CreditNoteID': 'eb75c5d2-925e-4201-8944-e7f4c69a3518', 'CreditNoteNumber': 'OG laptop', 'ID': 'eb75c5d2-925e-4201-8944-e7f4c69a3518', 'HasErrors': False, 'AppliedAmount': 270.63, 'DateString': '2020-10-21T00:00:00', 'Date': '/Date(1603238400000+0000)/', 'LineItems': [], 'Total': 270.63}], 'Prepayments': [], 'Overpayments': [], 'AmountDue': 0.0, 'AmountPaid': 1682.74, 'AmountCredited': 270.63, 'IsDiscounted': False, 'HasAttachments': False, 'HasErrors': False, 'Contact': {'ContactID': 'aacecb74-ef1e-44e0-ba52-0bc521639697', 'Name': 'PC Complete', 'Addresses': [], 'Phones': [], 'ContactGroups': [], 'ContactPersons': [], 'HasValidationErrors': False}, 'DateString': '2020-10-15T00:00:00', 'Date': '/Date(1602720000000+0000)/', 'DueDateString': '2020-10-15T00:00:00', 'DueDate': '/Date(1602720000000+0000)/', 'Status': 'PAID', 'LineAmountTypes': 'Exclusive', 'LineItems': [], 'SubTotal': 1804.5, 'TotalTax': 148.87, 'Total': 1953.37, 'UpdatedDateUTC': '/Date(1229798583833+0000)/', 'CurrencyCode': 'USD', 'FullyPaidOnDate': '/Date(1603238400000+0000)/'}, {'Type': 'ACCPAY', 'InvoiceID': '236985ea-21a5-4b17-afb9-c16ff9ff3e27', 'InvoiceNumber': 'Rpt', 'Reference': '', 'Payments': [{'PaymentID': '48a29539-e218-407b-8a0c-ae00ad011189', 'Date': '/Date(1602720000000+0000)/', 'Amount': 44.92, 'Reference': 'FP089876', 'HasAccount': False, 'HasValidationErrors': False}], 'CreditNotes': [], 'Prepayments': [], 'Overpayments': [], 'AmountDue': 0.0, 'AmountPaid': 44.92, 'AmountCredited': 0.0, 'IsDiscounted': False, 'HasAttachments': False, 'HasErrors': False, 'RepeatingInvoiceID': '334e6b25-c876-499c-81da-ab1293bbeac5', 'Contact': {'ContactID': 'b553bc60-5fb9-4d5e-b604-71aaf657cd3d', 'Name': 'Net Connect', 'Addresses': [], 'Phones': [], 'ContactGroups': [], 'ContactPersons': [], 'HasValidationErrors': False}, 'DateString': '2020-10-06T00:00:00', 'Date': '/Date(1601942400000+0000)/', 'DueDateString': '2020-10-16T00:00:00', 'DueDate': '/Date(1602806400000+0000)/', 'Status': 'PAID', 'LineAmountTypes': 'Exclusive', 'LineItems': [], 'SubTotal': 41.5, 'TotalTax': 3.42, 'Total': 44.92, 'UpdatedDateUTC': '/Date(1229798605550+0000)/', 'CurrencyCode': 'USD', 'FullyPaidOnDate': '/Date(1602720000000+0000)/'}, {'Type': 'ACCREC', 'InvoiceID': 'cb5119d0-9759-49d3-800b-7d0a90818178', 'InvoiceNumber': 'INV-0001', 'Reference': 'Monthly Support', 'Payments': [{'PaymentID': '655ad293-0b35-4c2c-9a97-0ee979dd365f', 'BatchPaymentID': 'ac90d19b-7166-4400-8e34-eb81b39288b7', 'Date': '/Date(1602633600000+0000)/', 'Amount': 541.25, 'Reference': '', 'HasAccount': False, 'HasValidationErrors': False}], 'CreditNotes': [], 'Prepayments': [], 'Overpayments': [], 'AmountDue': 0.0, 'AmountPaid': 541.25, 'AmountCredited': 0.0, 'IsDiscounted': False, 'HasAttachments': False, 'HasErrors': False, 'Contact': {'ContactID': 'fd89489e-699c-4d77-a881-10c127bfbeb3', 'Name': 'Hamilton Smith Ltd', 'Addresses': [], 'Phones': [], 'ContactGroups': [], 'ContactPersons': [], 'HasValidationErrors': False}, 'DateString': '2020-10-05T00:00:00', 'Date': '/Date(1601856000000+0000)/', 'DueDateString': '2020-10-16T00:00:00', 'DueDate': '/Date(1602806400000+0000)/', 'Status': 'PAID', 'LineAmountTypes': 'Exclusive', 'LineItems': [], 'SubTotal': 500.0, 'TotalTax': 41.25, 'Total': 541.25, 'UpdatedDateUTC': '/Date(1229803587127+0000)/', 'CurrencyCode': 'USD', 'FullyPaidOnDate': '/Date(1602633600000+0000)/'}, {'Type': 'ACCREC', 'InvoiceID': 'ac4883f6-fb22-4f55-9ed1-34929fc53c78', 'InvoiceNumber': 'INV-0002', 'Reference': 'Monthly Support', 'Payments': [{'PaymentID': 'eda94e67-0523-4375-ae3d-f481888b6be6', 'BatchPaymentID': 'f6a03619-d352-45d5-a029-16a801b4e401', 'Date': '/Date(1602633600000+0000)/', 'Amount': 541.25, 'Reference': '', 'HasAccount': False, 'HasValidationErrors': False}], 'CreditNotes': [], 'Prepayments': [], 'Overpayments': [], 'AmountDue': 0.0, 'AmountPaid': 541.25, 'AmountCredited': 0.0, 'IsDiscounted': False, 'HasAttachments': False, 'HasErrors': False, 'Contact': {'ContactID': '021b18f8-b62f-4d8a-889e-71fd5427892a', 'Name': 'Young Bros Transport', 'Addresses': [], 'Phones': [], 'ContactGroups': [], 'ContactPersons': [], 'HasValidationErrors': False}, 'DateString': '2020-10-05T00:00:00', 'Date': '/Date(1601856000000+0000)/', 'DueDateString': '2020-10-16T00:00:00', 'DueDate': '/Date(1602806400000+0000)/', 'Status': 'PAID', 'LineAmountTypes': 'Exclusive', 'LineItems': [], 'SubTotal': 500.0, 'TotalTax': 41.25, 'Total': 541.25, 'UpdatedDateUTC': '/Date(1229803589750+0000)/', 'CurrencyCode': 'USD', 'FullyPaidOnDate': '/Date(1602633600000+0000)/'}, {'Type': 'ACCPAY', 'InvoiceID': '1938eac0-c2dc-48f1-b4e1-b3ae59362f9b', 'InvoiceNumber': 'AP', 'Reference': '', 'Payments': [{'PaymentID': 'ac203d5b-3efc-4b5f-9601-c754202cec5b', 'BatchPaymentID': '2f2285ef-9aed-43cd-8a41-021ce41434e7', 'Date': '/Date(1601596800000+0000)/', 'Amount': 31.39, 'Reference': '', 'HasAccount': False, 'HasValidationErrors': False}], 'CreditNotes': [], 'Prepayments': [], 'Overpayments': [], 'AmountDue': 0.0, 'AmountPaid': 31.39, 'AmountCredited': 0.0, 'IsDiscounted': False, 'HasAttachments': False, 'HasErrors': False, 'RepeatingInvoiceID': '01e01427-6b48-4d5f-aa2e-87c43f2a32a9', 'Contact': {'ContactID': '3b30a108-9156-4a42-a893-3bbbe7af1ef8', 'Name': 'Xero', 'Addresses': [], 'Phones': [], 'ContactGroups': [], 'ContactPersons': [], 'HasValidationErrors': False}, 'DateString': '2020-11-02T00:00:00', 'Date': '/Date(1604275200000+0000)/', 'DueDateString': '2020-11-02T00:00:00', 'DueDate': '/Date(1604275200000+0000)/', 'Status': 'PAID', 'LineAmountTypes': 'Exclusive', 'LineItems': [], 'SubTotal': 29.0, 'TotalTax': 2.39, 'Total': 31.39, 'UpdatedDateUTC': '/Date(1229813606290+0000)/', 'CurrencyCode': 'USD', 'FullyPaidOnDate': '/Date(1601596800000+0000)/'}, {'Type': 'ACCREC', 'InvoiceID': 'f61d2da2-3957-42f7-b268-6117b957794e', 'InvoiceNumber': 'INV-0003', 'Reference': 'Monthly Support', 'Payments': [{'PaymentID': '38eec94e-7f2d-4295-b21c-b74078c628ca', 'BatchPaymentID': '9748930b-3eb6-486f-8d4a-2edbc1271087', 'Date': '/Date(1602633600000+0000)/', 'Amount': 541.25, 'Reference': '', 'HasAccount': False, 'HasValidationErrors': False}], 'CreditNotes': [], 'Prepayments': [], 'Overpayments': [], 'AmountDue': 0.0, 'AmountPaid': 541.25, 'AmountCredited': 0.0, 'IsDiscounted': False, 'HasAttachments': False, 'HasErrors': False, 'Contact': {'ContactID': '378f211a-64c2-4327-bab3-9b057f4f51d9', 'Name': 'Port & Philip Freight', 'Addresses': [], 'Phones': [], 'ContactGroups': [], 'ContactPersons': [], 'HasValidationErrors': False}, 'DateString': '2020-10-05T00:00:00', 'Date': '/Date(1601856000000+0000)/', 'DueDateString': '2020-10-16T00:00:00', 'DueDate': '/Date(1602806400000+0000)/', 'Status': 'PAID', 'LineAmountTypes': 'Exclusive', 'LineItems': [], 'SubTotal': 500.0, 'TotalTax': 41.25, 'Total': 541.25, 'UpdatedDateUTC': '/Date(1229813616570+0000)/', 'CurrencyCode': 'USD', 'FullyPaidOnDate': '/Date(1602633600000+0000)/'}, {'Type': 'ACCREC', 'InvoiceID': '043ce7df-fc3d-4e6b-b505-34579d0490f3', 'InvoiceNumber': 'INV-0004', 'Reference': 'Monthly Support', 'Payments': [{'PaymentID': 'f1ffc642-018f-4a74-94f1-41655528e082', 'BatchPaymentID': '3fa048c1-ded0-4c1e-ba2c-ea12229ca774', 'Date': '/Date(1602633600000+0000)/', 'Amount': 541.25, 'Reference': '', 'HasAccount': False, 'HasValidationErrors': False}], 'CreditNotes': [], 'Prepayments': [], 'Overpayments': [], 'AmountDue': 0.0, 'AmountPaid': 541.25, 'AmountCredited': 0.0, 'IsDiscounted': False, 'HasAttachments': False, 'HasErrors': False, 'Contact': {'ContactID': '3cbd5263-0965-4c4e-932c-bf50e3297610', 'Name': 'Rex Media Group', 'Addresses': [], 'Phones': [], 'ContactGroups': [], 'ContactPersons': [], 'HasValidationErrors': False}, 'DateString': '2020-10-05T00:00:00', 'Date': '/Date(1601856000000+0000)/', 'DueDateString': '2020-10-16T00:00:00', 'DueDate': '/Date(1602806400000+0000)/', 'Status': 'PAID', 'LineAmountTypes': 'Exclusive', 'LineItems': [], 'SubTotal': 500.0, 'TotalTax': 41.25, 'Total': 541.25, 'UpdatedDateUTC': '/Date(1229813618710+0000)/', 'CurrencyCode': 'USD', 'FullyPaidOnDate': '/Date(1602633600000+0000)/'}, {'Type': 'ACCREC', 'InvoiceID': '64f222d5-e59a-43e0-8f6b-69f87e42a527', 'InvoiceNumber': 'INV-0008', 'Reference': 'Training', 'Payments': [{'PaymentID': '8fdca282-ae96-4292-92b3-6194fcfb0a24', 'BatchPaymentID': 'c64e0536-fde6-4ab4-810b-57771c33e430', 'Date': '/Date(1602720000000+0000)/', 'Amount': 1299.0, 'Reference': '', 'HasAccount': False, 'HasValidationErrors': False}], 'CreditNotes': [], 'Prepayments': [], 'Overpayments': [], 'AmountDue': 0.0, 'AmountPaid': 1299.0, 'AmountCredited': 0.0, 'IsDiscounted': False, 'HasAttachments': False, 'HasErrors': False, 'Contact': {'ContactID': '47f61ab1-5245-40a2-a3a5-bc224c850c8d', 'Name': 'Bank West', 'Addresses': [], 'Phones': [], 'ContactGroups': [], 'ContactPersons': [], 'HasValidationErrors': False}, 'DateString': '2020-10-07T00:00:00', 'Date': '/Date(1602028800000+0000)/', 'DueDateString': '2020-10-18T00:00:00', 'DueDate': '/Date(1602979200000+0000)/', 'Status': 'PAID', 'LineAmountTypes': 'Exclusive', 'LineItems': [], 'SubTotal': 1200.0, 'TotalTax': 99.0, 'Total': 1299.0, 'UpdatedDateUTC': '/Date(1229813639897+0000)/', 'CurrencyCode': 'USD', 'FullyPaidOnDate': '/Date(1602720000000+0000)/'}, {'Type': 'ACCPAY', 'InvoiceID': '14aa8bd8-7473-42c7-b8bc-ca83d7a75236', 'InvoiceNumber': '945-OCon', 'Reference': '', 'Payments': [{'PaymentID': '11e24be4-1f7b-4e40-a81b-bf90b1fe3be9', 'Date': '/Date(1603238400000+0000)/', 'Amount': 900.0, 'Reference': 'FP101897', 'HasAccount': False, 'HasValidationErrors': False}], 'CreditNotes': [], 'Prepayments': [], 'Overpayments': [], 'AmountDue': 163.56, 'AmountPaid': 900.0, 'AmountCredited': 0.0, 'IsDiscounted': False, 'HasAttachments': False, 'HasErrors': False, 'Contact': {'ContactID': 'cade9142-f5fe-4970-b39e-2f388b8740c0', 'Name': 'Central Copiers', 'Addresses': [], 'Phones': [], 'ContactGroups': [], 'ContactPersons': [], 'HasValidationErrors': False}, 'DateString': '2020-10-13T00:00:00', 'Date': '/Date(1602547200000+0000)/', 'DueDateString': '2020-10-18T00:00:00', 'DueDate': '/Date(1602979200000+0000)/', 'Status': 'AUTHORISED', 'LineAmountTypes': 'Exclusive', 'LineItems': [], 'SubTotal': 982.5, 'TotalTax': 81.06, 'Total': 1063.56, 'UpdatedDateUTC': '/Date(1229815393353+0000)/', 'CurrencyCode': 'USD'}, {'Type': 'ACCPAY', 'InvoiceID': '9a4a5e48-56fb-4ec6-9c3b-07c947239372', 'InvoiceNumber': '5679', 'Reference': '', 'Payments': [{'PaymentID': '2fe58620-17ef-4f3d-8dd4-83d3ff395e90', 'Date': '/Date(1603238400000+0000)/', 'Amount': 119.08, 'Reference': 'FP101897', 'HasAccount': False, 'HasValidationErrors': False}], 'CreditNotes': [], 'Prepayments': [], 'Overpayments': [], 'AmountDue': 0.0, 'AmountPaid': 119.08, 'AmountCredited': 0.0, 'IsDiscounted': False, 'HasAttachments': False, 'HasErrors': False, 'Contact': {'ContactID': '537d4d64-2fc1-4521-89c3-489d20fae20d', 'Name': 'MCO Cleaning Services', 'Addresses': [], 'Phones': [], 'ContactGroups': [], 'ContactPersons': [], 'HasValidationErrors': False}, 'DateString': '2020-10-15T00:00:00', 'Date': '/Date(1602720000000+0000)/', 'DueDateString': '2020-10-21T00:00:00', 'DueDate': '/Date(1603238400000+0000)/', 'Status': 'PAID', 'LineAmountTypes': 'Exclusive', 'LineItems': [], 'SubTotal': 110.0, 'TotalTax': 9.08, 'Total': 119.08, 'UpdatedDateUTC': '/Date(1229815409417+0000)/', 'CurrencyCode': 'USD', 'FullyPaidOnDate': '/Date(1603238400000+0000)/'}, {'Type': 'ACCPAY', 'InvoiceID': 'ffbb9f34-f7d7-4f55-91cb-af89552ecdd7', 'InvoiceNumber': 'AP', 'Reference': '', 'Payments': [{'PaymentID': 'c5669150-71bf-4e26-95c9-4504737027da', 'Date': '/Date(1603238400000+0000)/', 'Amount': 34.1, 'Reference': 'FP101897', 'HasAccount': False, 'HasValidationErrors': False}], 'CreditNotes': [{'CreditNoteID': '38b0ede6-a89d-4384-8d24-a3b3e8eaabb0', 'CreditNoteNumber': 'Refund', 'ID': '38b0ede6-a89d-4384-8d24-a3b3e8eaabb0', 'HasErrors': False, 'AppliedAmount': 25.44, 'DateString': '2020-10-21T00:00:00', 'Date': '/Date(1603238400000+0000)/', 'LineItems': [], 'Total': 25.44}], 'Prepayments': [], 'Overpayments': [], 'AmountDue': 0.0, 'AmountPaid': 34.1, 'AmountCredited': 25.44, 'IsDiscounted': False, 'HasAttachments': False, 'HasErrors': False, 'RepeatingInvoiceID': '7f9d8073-f224-43d4-bfa9-a8925f25e0ec', 'Contact': {'ContactID': '78b7299c-4f1f-46d2-acc3-44a46bd361b1', 'Name': 'Swanston Security', 'Addresses': [], 'Phones': [], 'ContactGroups': [], 'ContactPersons': [], 'HasValidationErrors': False}, 'DateString': '2020-10-15T00:00:00', 'Date': '/Date(1602720000000+0000)/', 'DueDateString': '2020-10-22T00:00:00', 'DueDate': '/Date(1603324800000+0000)/', 'Status': 'PAID', 'LineAmountTypes': 'Exclusive', 'LineItems': [], 'SubTotal': 55.0, 'TotalTax': 4.54, 'Total': 59.54, 'UpdatedDateUTC': '/Date(1229815429527+0000)/', 'CurrencyCode': 'USD', 'FullyPaidOnDate': '/Date(1603238400000+0000)/'}, {'Type': 'ACCPAY', 'InvoiceID': '5fe76602-3f0d-48e6-88b6-aadfab4829a8', 'InvoiceNumber': '9781', 'Reference': '', 'Payments': [{'PaymentID': '879a43e9-0cd0-4752-b167-02e79dee8d1a', 'Date': '/Date(1603497600000+0000)/', 'Amount': 1463.88, 'Reference': 'Ref 0293', 'HasAccount': False, 'HasValidationErrors': False}], 'CreditNotes': [], 'Prepayments': [], 'Overpayments': [], 'AmountDue': 0.0, 'AmountPaid': 1463.88, 'AmountCredited': 0.0, 'IsDiscounted': False, 'HasAttachments': False, 'HasErrors': False, 'Contact': {'ContactID': 'b553bc60-5fb9-4d5e-b604-71aaf657cd3d', 'Name': 'Net Connect', 'Addresses': [], 'Phones': [], 'ContactGroups': [], 'ContactPersons': [], 'HasValidationErrors': False}, 'DateString': '2020-10-14T00:00:00', 'Date': '/Date(1602633600000+0000)/', 'DueDateString': '2020-10-25T00:00:00', 'DueDate': '/Date(1603584000000+0000)/', 'Status': 'PAID', 'LineAmountTypes': 'Exclusive', 'LineItems': [], 'SubTotal': 1350.0, 'TotalTax': 113.88, 'Total': 1463.88, 'UpdatedDateUTC': '/Date(1229815498650+0000)/', 'CurrencyCode': 'USD', 'FullyPaidOnDate': '/Date(1603497600000+0000)/'}, {'Type': 'ACCPAY', 'InvoiceID': '0bd7b530-d244-4716-a93e-710de7c61b76', 'InvoiceNumber': 'OG laptop', 'Reference': '', 'Payments': [{'PaymentID': '82fb0ce9-4df2-45a9-b6da-652b67be142e', 'Date': '/Date(1603670400000+0000)/', 'Amount': 270.63, 'Reference': '', 'HasAccount': False, 'HasValidationErrors': False}], 'CreditNotes': [], 'Prepayments': [], 'Overpayments': [], 'AmountDue': 0.0, 'AmountPaid': 270.63, 'AmountCredited': 0.0, 'IsDiscounted': False, 'HasAttachments': False, 'HasErrors': False, 'Contact': {'ContactID': 'aacecb74-ef1e-44e0-ba52-0bc521639697', 'Name': 'PC Complete', 'Addresses': [], 'Phones': [], 'ContactGroups': [], 'ContactPersons': [], 'HasValidationErrors': False}, 'DateString': '2020-10-26T00:00:00', 'Date': '/Date(1603670400000+0000)/', 'DueDateString': '2020-10-26T00:00:00', 'DueDate': '/Date(1603670400000+0000)/', 'Status': 'PAID', 'LineAmountTypes': 'Exclusive', 'LineItems': [], 'SubTotal': 250.0, 'TotalTax': 20.63, 'Total': 270.63, 'UpdatedDateUTC': '/Date(1229815533883+0000)/', 'CurrencyCode': 'USD', 'FullyPaidOnDate': '/Date(1603670400000+0000)/'}, {'Type': 'ACCREC', 'InvoiceID': 'a909dda4-555b-414b-a395-ba7a4077de72', 'InvoiceNumber': 'INV-0024', 'Reference': 'P/O 9711', 'Payments': [], 'CreditNotes': [], 'Prepayments': [], 'Overpayments': [], 'AmountDue': 703.63, 'AmountPaid': 0.0, 'AmountCredited': 0.0, 'SentToContact': True, 'IsDiscounted': False, 'HasAttachments': False, 'HasErrors': False, 'Contact': {'ContactID': '7c913d33-39d5-4a1c-b8b1-e23f5fc999e0', 'Name': 'City Limousines', 'Addresses': [], 'Phones': [], 'ContactGroups': [], 'ContactPersons': [], 'HasValidationErrors': False}, 'DateString': '2020-11-30T00:00:00', 'Date': '/Date(1606694400000+0000)/', 'DueDateString': '2020-12-15T00:00:00', 'DueDate': '/Date(1607990400000+0000)/', 'Status': 'AUTHORISED', 'LineAmountTypes': 'Exclusive', 'LineItems': [], 'SubTotal': 650.0, 'TotalTax': 53.63, 'Total': 703.63, 'UpdatedDateUTC': '/Date(1229818032087+0000)/', 'CurrencyCode': 'USD'}, {'Type': 'ACCREC', 'InvoiceID': '3f887d04-cbd9-4853-b594-bc1ab207558c', 'InvoiceNumber': 'INV-0025', 'Reference': 'P/O CRM08-12', 'Payments': [], 'CreditNotes': [], 'Prepayments': [], 'Overpayments': [], 'AmountDue': 6187.5, 'AmountPaid': 0.0, 'AmountCredited': 0.0, 'SentToContact': True, 'IsDiscounted': False, 'HasAttachments': False, 'HasErrors': False, 'Contact': {'ContactID': '65a44264-dea0-481a-b49d-18a334a72334', 'Name': 'Ridgeway University', 'Addresses': [], 'Phones': [], 'ContactGroups': [], 'ContactPersons': [], 'HasValidationErrors': False}, 'DateString': '2020-11-14T00:00:00', 'Date': '/Date(1605312000000+0000)/', 'DueDateString': '2020-12-05T00:00:00', 'DueDate': '/Date(1607126400000+0000)/', 'Status': 'AUTHORISED', 'LineAmountTypes': 'Inclusive', 'LineItems': [], 'SubTotal': 5715.94, 'TotalTax': 471.56, 'Total': 6187.5, 'UpdatedDateUTC': '/Date(1229821850963+0000)/', 'CurrencyCode': 'USD'}, {'Type': 'ACCREC', 'InvoiceID': '50e1cbd2-86c6-42df-9538-5691dd54bbee', 'InvoiceNumber': 'INV-0012', 'Reference': 'P/O 9711', 'Payments': [], 'CreditNotes': [], 'Prepayments': [], 'Overpayments': [], 'AmountDue': 216.5, 'AmountPaid': 0.0, 'AmountCredited': 0.0, 'SentToContact': True, 'IsDiscounted': False, 'HasAttachments': False, 'HasErrors': False, 'Contact': {'ContactID': '7c913d33-39d5-4a1c-b8b1-e23f5fc999e0', 'Name': 'City Limousines', 'Addresses': [], 'Phones': [], 'ContactGroups': [], 'ContactPersons': [], 'HasValidationErrors': False}, 'DateString': '2020-10-21T00:00:00', 'Date': '/Date(1603238400000+0000)/', 'DueDateString': '2020-10-31T00:00:00', 'DueDate': '/Date(1604102400000+0000)/', 'Status': 'AUTHORISED', 'LineAmountTypes': 'Exclusive', 'LineItems': [], 'SubTotal': 200.0, 'TotalTax': 16.5, 'Total': 216.5, 'UpdatedDateUTC': '/Date(1229822888727+0000)/', 'CurrencyCode': 'USD', 'FullyPaidOnDate': '/Date(1604534400000+0000)/'}, {'Type': 'ACCPAY', 'InvoiceID': '6b99fc0b-e148-458d-aa8b-da550803c93e', 'InvoiceNumber': '', 'Reference': '', 'Payments': [], 'CreditNotes': [], 'Prepayments': [], 'Overpayments': [], 'AmountDue': 125.03, 'AmountPaid': 0.0, 'AmountCredited': 0.0, 'IsDiscounted': False, 'HasAttachments': False, 'HasErrors': False, 'Contact': {'ContactID': '021b18f8-b62f-4d8a-889e-71fd5427892a', 'Name': 'Young Bros Transport', 'Addresses': [], 'Phones': [], 'ContactGroups': [], 'ContactPersons': [], 'HasValidationErrors': False}, 'DateString': '2020-12-02T00:00:00', 'Date': '/Date(1606867200000+0000)/', 'DueDateString': '2020-12-15T00:00:00', 'DueDate': '/Date(1607990400000+0000)/', 'Status': 'AUTHORISED', 'LineAmountTypes': 'Exclusive', 'LineItems': [], 'SubTotal': 115.5, 'TotalTax': 9.53, 'Total': 125.03, 'UpdatedDateUTC': '/Date(1229825755433+0000)/', 'CurrencyCode': 'USD'}, {'Type': 'ACCPAY', 'InvoiceID': '7a69814e-dc6f-4c8b-80ad-cfe9c78c2763', 'InvoiceNumber': 'Rpt', 'Reference': '', 'Payments': [], 'CreditNotes': [], 'Prepayments': [], 'Overpayments': [], 'AmountDue': 108.6, 'AmountPaid': 0.0, 'AmountCredited': 0.0, 'IsDiscounted': False, 'HasAttachments': False, 'HasErrors': False, 'RepeatingInvoiceID': '9bcc1e13-3e4a-47c5-a300-249bff8a00f6', 'Contact': {'ContactID': '8f48b066-e047-459d-80dd-d495b36608d0', 'Name': 'PowerDirect', 'Addresses': [], 'Phones': [], 'ContactGroups': [], 'ContactPersons': [], 'HasValidationErrors': False}, 'DateString': '2020-12-05T00:00:00', 'Date': '/Date(1607126400000+0000)/', 'DueDateString': '2020-12-15T00:00:00', 'DueDate': '/Date(1607990400000+0000)/', 'Status': 'AUTHORISED', 'LineAmountTypes': 'Exclusive', 'LineItems': [], 'SubTotal': 100.32, 'TotalTax': 8.28, 'Total': 108.6, 'UpdatedDateUTC': '/Date(1229825820727+0000)/', 'CurrencyCode': 'USD'}, {'Type': 'ACCPAY', 'InvoiceID': '08e6466f-29f3-4af7-aeac-102944c10033', 'InvoiceNumber': 'Rpt', 'Reference': '', 'Payments': [], 'CreditNotes': [], 'Prepayments': [], 'Overpayments': [], 'AmountDue': 54.13, 'AmountPaid': 0.0, 'AmountCredited': 0.0, 'IsDiscounted': False, 'HasAttachments': False, 'HasErrors': False, 'RepeatingInvoiceID': '334e6b25-c876-499c-81da-ab1293bbeac5', 'Contact': {'ContactID': 'b553bc60-5fb9-4d5e-b604-71aaf657cd3d', 'Name': 'Net Connect', 'Addresses': [], 'Phones': [], 'ContactGroups': [], 'ContactPersons': [], 'HasValidationErrors': False}, 'DateString': '2020-12-06T00:00:00', 'Date': '/Date(1607212800000+0000)/', 'DueDateString': '2020-12-16T00:00:00', 'DueDate': '/Date(1608076800000+0000)/', 'Status': 'AUTHORISED', 'LineAmountTypes': 'Exclusive', 'LineItems': [], 'SubTotal': 50.0, 'TotalTax': 4.13, 'Total': 54.13, 'UpdatedDateUTC': '/Date(1229825846743+0000)/', 'CurrencyCode': 'USD'}, {'Type': 'ACCREC', 'InvoiceID': '50a8143e-f9a5-4b84-8560-0daeba260020', 'InvoiceNumber': 'INV-0007', 'Reference': 'Workshop', 'Payments': [{'PaymentID': '9e2a70e4-7dbb-4b8a-bb64-cb6c6c45050d', 'Date': '/Date(1603065600000+0000)/', 'Amount': 593.23, 'Reference': '', 'HasAccount': False, 'HasValidationErrors': False}], 'CreditNotes': [], 'Prepayments': [], 'Overpayments': [], 'AmountDue': 0.0, 'AmountPaid': 593.23, 'AmountCredited': 0.0, 'IsDiscounted': False, 'HasAttachments': False, 'HasErrors': False, 'Contact': {'ContactID': 'fa52f698-1244-47cd-8fb9-5f32b6490a55', 'Name': 'City Agency', 'Addresses': [], 'Phones': [], 'ContactGroups': [], 'ContactPersons': [], 'HasValidationErrors': False}, 'DateString': '2020-10-08T00:00:00', 'Date': '/Date(1602115200000+0000)/', 'DueDateString': '2020-10-19T00:00:00', 'DueDate': '/Date(1603065600000+0000)/', 'Status': 'PAID', 'LineAmountTypes': 'Exclusive', 'LineItems': [], 'SubTotal': 547.8, 'TotalTax': 45.43, 'Total': 593.23, 'UpdatedDateUTC': '/Date(1234707946070+0000)/', 'CurrencyCode': 'USD', 'FullyPaidOnDate': '/Date(1603065600000+0000)/'}, {'Type': 'ACCPAY', 'InvoiceID': '7f750739-c67a-4acc-9cd7-c133ddbcb7b1', 'InvoiceNumber': '', 'Reference': '', 'Payments': [], 'CreditNotes': [], 'Prepayments': [], 'Overpayments': [], 'AmountDue': 2132.51, 'AmountPaid': 0.0, 'AmountCredited': 0.0, 'IsDiscounted': False, 'HasAttachments': False, 'HasErrors': False, 'Contact': {'ContactID': 'aacecb74-ef1e-44e0-ba52-0bc521639697', 'Name': 'PC Complete', 'Addresses': [], 'Phones': [], 'ContactGroups': [], 'ContactPersons': [], 'HasValidationErrors': False}, 'DateString': '2020-11-30T00:00:00', 'Date': '/Date(1606694400000+0000)/', 'DueDateString': '2021-01-05T00:00:00', 'DueDate': '/Date(1609804800000+0000)/', 'Status': 'AUTHORISED', 'LineAmountTypes': 'Exclusive', 'LineItems': [], 'SubTotal': 1969.99, 'TotalTax': 162.52, 'Total': 2132.51, 'UpdatedDateUTC': '/Date(1237233517650+0000)/', 'CurrencyCode': 'USD'}, {'Type': 'ACCPAY', 'InvoiceID': '61127f1e-d938-4176-a72e-fd500d5b064f', 'InvoiceNumber': 'Rpt', 'Reference': '', 'Payments': [], 'CreditNotes': [], 'Prepayments': [], 'Overpayments': [], 'AmountDue': 0.0, 'AmountPaid': 0.0, 'AmountCredited': 0.0, 'IsDiscounted': False, 'HasAttachments': False, 'HasErrors': False, 'RepeatingInvoiceID': '334e6b25-c876-499c-81da-ab1293bbeac5', 'Contact': {'ContactID': 'b553bc60-5fb9-4d5e-b604-71aaf657cd3d', 'Name': 'Net Connect', 'Addresses': [], 'Phones': [], 'ContactGroups': [], 'ContactPersons': [], 'HasValidationErrors': False}, 'DateString': '2021-02-06T00:00:00', 'Date': '/Date(1612569600000+0000)/', 'DueDateString': '2020-12-06T00:00:00', 'DueDate': '/Date(1607212800000+0000)/', 'Status': 'DELETED', 'LineAmountTypes': 'Exclusive', 'LineItems': [], 'SubTotal': 39.0, 'TotalTax': 3.22, 'Total': 42.22, 'UpdatedDateUTC': '/Date(1252359600550+0000)/', 'CurrencyCode': 'USD'}, {'Type': 'ACCPAY', 'InvoiceID': '323103d0-050b-4538-9abd-b05894f176f5', 'InvoiceNumber': 'Rpt', 'Reference': '', 'Payments': [], 'CreditNotes': [], 'Prepayments': [], 'Overpayments': [], 'AmountDue': 0.0, 'AmountPaid': 0.0, 'AmountCredited': 0.0, 'IsDiscounted': False, 'HasAttachments': False, 'HasErrors': False, 'RepeatingInvoiceID': '9bcc1e13-3e4a-47c5-a300-249bff8a00f6', 'Contact': {'ContactID': '8f48b066-e047-459d-80dd-d495b36608d0', 'Name': 'PowerDirect', 'Addresses': [], 'Phones': [], 'ContactGroups': [], 'ContactPersons': [], 'HasValidationErrors': False}, 'DateString': '2021-02-05T00:00:00', 'Date': '/Date(1612483200000+0000)/', 'DueDateString': '2021-02-23T00:00:00', 'DueDate': '/Date(1614038400000+0000)/', 'Status': 'DELETED', 'LineAmountTypes': 'Exclusive', 'LineItems': [], 'SubTotal': 105.0, 'TotalTax': 8.66, 'Total': 113.66, 'UpdatedDateUTC': '/Date(1252359600737+0000)/', 'CurrencyCode': 'USD'}, {'Type': 'ACCPAY', 'InvoiceID': '1ee8729f-0a1f-4e36-8a10-de4c087b92ab', 'InvoiceNumber': 'Rpt', 'Reference': '', 'Payments': [], 'CreditNotes': [], 'Prepayments': [], 'Overpayments': [], 'AmountDue': 0.0, 'AmountPaid': 0.0, 'AmountCredited': 0.0, 'IsDiscounted': False, 'HasAttachments': False, 'HasErrors': False, 'RepeatingInvoiceID': '334e6b25-c876-499c-81da-ab1293bbeac5', 'Contact': {'ContactID': 'b553bc60-5fb9-4d5e-b604-71aaf657cd3d', 'Name': 'Net Connect', 'Addresses': [], 'Phones': [], 'ContactGroups': [], 'ContactPersons': [], 'HasValidationErrors': False}, 'DateString': '2021-01-06T00:00:00', 'Date': '/Date(1609891200000+0000)/', 'DueDateString': '2021-02-13T00:00:00', 'DueDate': '/Date(1613174400000+0000)/', 'Status': 'DELETED', 'LineAmountTypes': 'Exclusive', 'LineItems': [], 'SubTotal': 39.0, 'TotalTax': 3.22, 'Total': 42.22, 'UpdatedDateUTC': '/Date(1252359600830+0000)/', 'CurrencyCode': 'USD'}, {'Type': 'ACCPAY', 'InvoiceID': '927cc424-d1b9-48c8-a6aa-c134b3bc74a4', 'InvoiceNumber': 'Rpt', 'Reference': '', 'Payments': [], 'CreditNotes': [], 'Prepayments': [], 'Overpayments': [], 'AmountDue': 0.0, 'AmountPaid': 0.0, 'AmountCredited': 0.0, 'IsDiscounted': False, 'HasAttachments': False, 'HasErrors': False, 'RepeatingInvoiceID': '9bcc1e13-3e4a-47c5-a300-249bff8a00f6', 'Contact': {'ContactID': '8f48b066-e047-459d-80dd-d495b36608d0', 'Name': 'PowerDirect', 'Addresses': [], 'Phones': [], 'ContactGroups': [], 'ContactPersons': [], 'HasValidationErrors': False}, 'DateString': '2021-01-05T00:00:00', 'Date': '/Date(1609804800000+0000)/', 'DueDateString': '2021-01-26T00:00:00', 'DueDate': '/Date(1611619200000+0000)/', 'Status': 'DELETED', 'LineAmountTypes': 'Exclusive', 'LineItems': [], 'SubTotal': 105.0, 'TotalTax': 8.66, 'Total': 113.66, 'UpdatedDateUTC': '/Date(1252359600907+0000)/', 'CurrencyCode': 'USD'}, {'Type': 'ACCPAY', 'InvoiceID': 'f8c11fab-d8b2-4fdc-a803-34501181df3b', 'InvoiceNumber': 'AP', 'Reference': '', 'Payments': [], 'CreditNotes': [], 'Prepayments': [], 'Overpayments': [], 'AmountDue': 0.0, 'AmountPaid': 0.0, 'AmountCredited': 0.0, 'IsDiscounted': False, 'HasAttachments': False, 'HasErrors': False, 'RepeatingInvoiceID': '7f9d8073-f224-43d4-bfa9-a8925f25e0ec', 'Contact': {'ContactID': '78b7299c-4f1f-46d2-acc3-44a46bd361b1', 'Name': 'Swanston Security', 'Addresses': [], 'Phones': [], 'ContactGroups': [], 'ContactPersons': [], 'HasValidationErrors': False}, 'DateString': '2020-12-15T00:00:00', 'Date': '/Date(1607990400000+0000)/', 'DueDateString': '2020-12-23T00:00:00', 'DueDate': '/Date(1608681600000+0000)/', 'Status': 'VOIDED', 'LineAmountTypes': 'Exclusive', 'LineItems': [], 'SubTotal': 55.0, 'TotalTax': 4.54, 'Total': 59.54, 'UpdatedDateUTC': '/Date(1252359641720+0000)/', 'CurrencyCode': 'USD'}, {'Type': 'ACCPAY', 'InvoiceID': 'a8beb072-5464-46ab-b437-cce25e6f2a0a', 'InvoiceNumber': 'AP', 'Reference': '', 'Payments': [], 'CreditNotes': [], 'Prepayments': [], 'Overpayments': [], 'AmountDue': 0.0, 'AmountPaid': 0.0, 'AmountCredited': 0.0, 'IsDiscounted': False, 'HasAttachments': False, 'HasErrors': False, 'RepeatingInvoiceID': '01e01427-6b48-4d5f-aa2e-87c43f2a32a9', 'Contact': {'ContactID': '3b30a108-9156-4a42-a893-3bbbe7af1ef8', 'Name': 'Xero', 'Addresses': [], 'Phones': [], 'ContactGroups': [], 'ContactPersons': [], 'HasValidationErrors': False}, 'DateString': '2021-01-02T00:00:00', 'Date': '/Date(1609545600000+0000)/', 'DueDateString': '2021-01-17T00:00:00', 'DueDate': '/Date(1610841600000+0000)/', 'Status': 'VOIDED', 'LineAmountTypes': 'Exclusive', 'LineItems': [], 'SubTotal': 29.0, 'TotalTax': 2.39, 'Total': 31.39, 'UpdatedDateUTC': '/Date(1252359666617+0000)/', 'CurrencyCode': 'USD'}, {'Type': 'ACCPAY', 'InvoiceID': '543f7cd8-323d-4baf-96b2-cb76831bccfb', 'InvoiceNumber': 'RENT', 'Reference': '', 'Payments': [], 'CreditNotes': [], 'Prepayments': [], 'Overpayments': [], 'AmountDue': 0.0, 'AmountPaid': 0.0, 'AmountCredited': 0.0, 'IsDiscounted': False, 'HasAttachments': False, 'HasErrors': False, 'RepeatingInvoiceID': 'dcd26e24-a848-4492-a452-695b88f66abc', 'Contact': {'ContactID': 'f4af0a9b-e710-4611-8618-4360944ce1f3', 'Name': 'Truxton Property Management', 'Addresses': [], 'Phones': [], 'ContactGroups': [], 'ContactPersons': [], 'HasValidationErrors': False}, 'DateString': '2021-01-05T00:00:00', 'Date': '/Date(1609804800000+0000)/', 'DueDateString': '2021-01-17T00:00:00', 'DueDate': '/Date(1610841600000+0000)/', 'Status': 'VOIDED', 'LineAmountTypes': 'Inclusive', 'LineItems': [], 'SubTotal': 1091.22, 'TotalTax': 90.03, 'Total': 1181.25, 'UpdatedDateUTC': '/Date(1252359682763+0000)/', 'CurrencyCode': 'USD'}, {'Type': 'ACCPAY', 'InvoiceID': 'df852239-2d19-4313-8285-e94957a45020', 'InvoiceNumber': 'AP', 'Reference': '', 'Payments': [], 'CreditNotes': [], 'Prepayments': [], 'Overpayments': [], 'AmountDue': 0.0, 'AmountPaid': 0.0, 'AmountCredited': 0.0, 'IsDiscounted': False, 'HasAttachments': False, 'HasErrors': False, 'RepeatingInvoiceID': '7f9d8073-f224-43d4-bfa9-a8925f25e0ec', 'Contact': {'ContactID': '78b7299c-4f1f-46d2-acc3-44a46bd361b1', 'Name': 'Swanston Security', 'Addresses': [], 'Phones': [], 'ContactGroups': [], 'ContactPersons': [], 'HasValidationErrors': False}, 'DateString': '2021-01-15T00:00:00', 'Date': '/Date(1610668800000+0000)/', 'DueDateString': '2021-01-23T00:00:00', 'DueDate': '/Date(1611360000000+0000)/', 'Status': 'VOIDED', 'LineAmountTypes': 'Exclusive', 'LineItems': [], 'SubTotal': 55.0, 'TotalTax': 4.54, 'Total': 59.54, 'UpdatedDateUTC': '/Date(1252359730970+0000)/', 'CurrencyCode': 'USD'}, {'Type': 'ACCPAY', 'InvoiceID': '57f74b0c-137d-4627-8c08-388f49a62510', 'InvoiceNumber': 'AP', 'Reference': '', 'Payments': [], 'CreditNotes': [], 'Prepayments': [], 'Overpayments': [], 'AmountDue': 0.0, 'AmountPaid': 0.0, 'AmountCredited': 0.0, 'IsDiscounted': False, 'HasAttachments': False, 'HasErrors': False, 'RepeatingInvoiceID': '01e01427-6b48-4d5f-aa2e-87c43f2a32a9', 'Contact': {'ContactID': '3b30a108-9156-4a42-a893-3bbbe7af1ef8', 'Name': 'Xero', 'Addresses': [], 'Phones': [], 'ContactGroups': [], 'ContactPersons': [], 'HasValidationErrors': False}, 'DateString': '2021-02-02T00:00:00', 'Date': '/Date(1612224000000+0000)/', 'DueDateString': '2021-02-14T00:00:00', 'DueDate': '/Date(1613260800000+0000)/', 'Status': 'VOIDED', 'LineAmountTypes': 'Exclusive', 'LineItems': [], 'SubTotal': 29.0, 'TotalTax': 2.39, 'Total': 31.39, 'UpdatedDateUTC': '/Date(1252359736960+0000)/', 'CurrencyCode': 'USD'}, {'Type': 'ACCPAY', 'InvoiceID': '2a35b64d-8564-43c8-a43f-e56b3f8dddcd', 'InvoiceNumber': 'RENT', 'Reference': '', 'Payments': [], 'CreditNotes': [], 'Prepayments': [], 'Overpayments': [], 'AmountDue': 0.0, 'AmountPaid': 0.0, 'AmountCredited': 0.0, 'IsDiscounted': False, 'HasAttachments': False, 'HasErrors': False, 'RepeatingInvoiceID': 'dcd26e24-a848-4492-a452-695b88f66abc', 'Contact': {'ContactID': 'f4af0a9b-e710-4611-8618-4360944ce1f3', 'Name': 'Truxton Property Management', 'Addresses': [], 'Phones': [], 'ContactGroups': [], 'ContactPersons': [], 'HasValidationErrors': False}, 'DateString': '2021-02-05T00:00:00', 'Date': '/Date(1612483200000+0000)/', 'DueDateString': '2021-02-14T00:00:00', 'DueDate': '/Date(1613260800000+0000)/', 'Status': 'VOIDED', 'LineAmountTypes': 'Inclusive', 'LineItems': [], 'SubTotal': 1091.22, 'TotalTax': 90.03, 'Total': 1181.25, 'UpdatedDateUTC': '/Date(1252359748520+0000)/', 'CurrencyCode': 'USD'}, {'Type': 'ACCPAY', 'InvoiceID': '1a29fe51-c155-4c8e-b91b-baa176655d23', 'InvoiceNumber': 'AP', 'Reference': '', 'Payments': [], 'CreditNotes': [], 'Prepayments': [], 'Overpayments': [], 'AmountDue': 0.0, 'AmountPaid': 0.0, 'AmountCredited': 0.0, 'IsDiscounted': False, 'HasAttachments': False, 'HasErrors': False, 'RepeatingInvoiceID': '7f9d8073-f224-43d4-bfa9-a8925f25e0ec', 'Contact': {'ContactID': '78b7299c-4f1f-46d2-acc3-44a46bd361b1', 'Name': 'Swanston Security', 'Addresses': [], 'Phones': [], 'ContactGroups': [], 'ContactPersons': [], 'HasValidationErrors': False}, 'DateString': '2021-02-13T00:00:00', 'Date': '/Date(1613174400000+0000)/', 'DueDateString': '2021-02-20T00:00:00', 'DueDate': '/Date(1613779200000+0000)/', 'Status': 'VOIDED', 'LineAmountTypes': 'Exclusive', 'LineItems': [], 'SubTotal': 55.0, 'TotalTax': 4.54, 'Total': 59.54, 'UpdatedDateUTC': '/Date(1252359772373+0000)/', 'CurrencyCode': 'USD'}, {'Type': 'ACCPAY', 'InvoiceID': 'f2b3f909-1472-4ee8-98ac-5045bacb5656', 'InvoiceNumber': 'GB1-White', 'Reference': '', 'Payments': [], 'CreditNotes': [], 'Prepayments': [], 'Overpayments': [], 'AmountDue': 840.0, 'AmountPaid': 0.0, 'AmountCredited': 0.0, 'CurrencyRate': 1.0, 'IsDiscounted': False, 'HasAttachments': False, 'HasErrors': False, 'Contact': {'ContactID': 'c01292e3-1a1a-4a70-b120-1218f8f71096', 'Name': 'Bayside Wholesale', 'Addresses': [], 'Phones': [], 'ContactGroups': [], 'ContactPersons': [], 'HasValidationErrors': False}, 'DateString': '2020-12-03T00:00:00', 'Date': '/Date(1606953600000+0000)/', 'DueDateString': '2020-12-14T00:00:00', 'DueDate': '/Date(1607904000000+0000)/', 'Status': 'AUTHORISED', 'LineAmountTypes': 'Inclusive', 'LineItems': [], 'SubTotal': 775.98, 'TotalTax': 64.02, 'Total': 840.0, 'UpdatedDateUTC': '/Date(1285721714157+0000)/', 'CurrencyCode': 'USD'}, {'Type': 'ACCPAY', 'InvoiceID': '93796a50-2fb6-4982-9ccd-01898b419ea0', 'InvoiceNumber': 'CS815', 'Reference': '', 'Payments': [], 'CreditNotes': [], 'Prepayments': [], 'Overpayments': [], 'AmountDue': 242.0, 'AmountPaid': 0.0, 'AmountCredited': 0.0, 'CurrencyRate': 1.0, 'IsDiscounted': False, 'HasAttachments': False, 'HasErrors': False, 'Contact': {'ContactID': 'f93cd75c-9412-4a8c-91a3-b41fe751aa01', 'Name': 'Capital Cab Co', 'Addresses': [], 'Phones': [], 'ContactGroups': [], 'ContactPersons': [], 'HasValidationErrors': False}, 'DateString': '2020-12-06T00:00:00', 'Date': '/Date(1607212800000+0000)/', 'DueDateString': '2020-12-12T00:00:00', 'DueDate': '/Date(1607731200000+0000)/', 'Status': 'AUTHORISED', 'LineAmountTypes': 'Inclusive', 'LineItems': [], 'SubTotal': 223.56, 'TotalTax': 18.44, 'Total': 242.0, 'UpdatedDateUTC': '/Date(1357336531257+0000)/', 'CurrencyCode': 'USD'}, {'Type': 'ACCPAY', 'InvoiceID': '84f7c2d0-8383-46ed-bf45-17e00665ceab', 'InvoiceNumber': 'SM0195', 'Reference': '', 'Payments': [], 'CreditNotes': [], 'Prepayments': [], 'Overpayments': [], 'AmountDue': 2000.0, 'AmountPaid': 0.0, 'AmountCredited': 0.0, 'CurrencyRate': 1.0, 'IsDiscounted': False, 'HasAttachments': False, 'HasErrors': False, 'Contact': {'ContactID': '3f58af86-b4d9-4ac9-950c-2e4cdd94d5be', 'Name': 'SMART Agency', 'Addresses': [], 'Phones': [], 'ContactGroups': [], 'ContactPersons': [], 'HasValidationErrors': False}, 'DateString': '2020-10-15T00:00:00', 'Date': '/Date(1602720000000+0000)/', 'DueDateString': '2020-10-26T00:00:00', 'DueDate': '/Date(1603670400000+0000)/', 'Status': 'AUTHORISED', 'LineAmountTypes': 'Inclusive', 'LineItems': [], 'SubTotal': 1847.58, 'TotalTax': 152.42, 'Total': 2000.0, 'UpdatedDateUTC': '/Date(1357413009793+0000)/', 'CurrencyCode': 'USD'}, {'Type': 'ACCPAY', 'InvoiceID': '628fc0b0-e65c-47ef-a3e2-99632a1136e7', 'InvoiceNumber': 'SM0210', 'Reference': '', 'Payments': [], 'CreditNotes': [], 'Prepayments': [], 'Overpayments': [], 'AmountDue': 2500.0, 'AmountPaid': 0.0, 'AmountCredited': 0.0, 'CurrencyRate': 1.0, 'IsDiscounted': False, 'HasAttachments': False, 'HasErrors': False, 'Contact': {'ContactID': '3f58af86-b4d9-4ac9-950c-2e4cdd94d5be', 'Name': 'SMART Agency', 'Addresses': [], 'Phones': [], 'ContactGroups': [], 'ContactPersons': [], 'HasValidationErrors': False}, 'DateString': '2020-11-25T00:00:00', 'Date': '/Date(1606262400000+0000)/', 'DueDateString': '2020-12-05T00:00:00', 'DueDate': '/Date(1607126400000+0000)/', 'Status': 'AUTHORISED', 'LineAmountTypes': 'Inclusive', 'LineItems': [], 'SubTotal': 2309.47, 'TotalTax': 190.53, 'Total': 2500.0, 'UpdatedDateUTC': '/Date(1357413049607+0000)/', 'CurrencyCode': 'USD'}, {'Type': 'ACCREC', 'InvoiceID': 'bd63b5f1-5503-4c62-9c4a-e4b9e4257dc9', 'InvoiceNumber': 'INV-0006', 'Reference': 'P/O 9711', 'Payments': [], 'CreditNotes': [], 'Prepayments': [], 'Overpayments': [], 'AmountDue': 250.0, 'AmountPaid': 0.0, 'AmountCredited': 0.0, 'SentToContact': True, 'CurrencyRate': 1.0, 'IsDiscounted': False, 'HasAttachments': False, 'HasErrors': False, 'Contact': {'ContactID': '7c913d33-39d5-4a1c-b8b1-e23f5fc999e0', 'Name': 'City Limousines', 'Addresses': [], 'Phones': [], 'ContactGroups': [], 'ContactPersons': [], 'HasValidationErrors': False}, 'DateString': '2020-10-04T00:00:00', 'Date': '/Date(1601769600000+0000)/', 'DueDateString': '2020-10-14T00:00:00', 'DueDate': '/Date(1602633600000+0000)/', 'BrandingThemeID': 'd613f7f9-8fcb-477f-97f0-31eb85b7e5cf', 'Status': 'AUTHORISED', 'LineAmountTypes': 'Inclusive', 'LineItems': [], 'SubTotal': 230.95, 'TotalTax': 19.05, 'Total': 250.0, 'UpdatedDateUTC': '/Date(1357416145280+0000)/', 'CurrencyCode': 'USD'}, {'Type': 'ACCPAY', 'InvoiceID': 'bbf21465-7a03-417d-b41d-48d3000e858e', 'InvoiceNumber': 'RENT', 'Reference': '', 'Payments': [{'PaymentID': '9dbd9caf-d421-45b2-b01a-01d8f5517af3', 'Date': '/Date(1606262400000+0000)/', 'Amount': 1181.25, 'CurrencyRate': 1.0, 'HasAccount': False, 'HasValidationErrors': False}], 'CreditNotes': [], 'Prepayments': [], 'Overpayments': [], 'AmountDue': 0.0, 'AmountPaid': 1181.25, 'AmountCredited': 0.0, 'CurrencyRate': 1.0, 'IsDiscounted': False, 'HasAttachments': False, 'HasErrors': False, 'RepeatingInvoiceID': 'dcd26e24-a848-4492-a452-695b88f66abc', 'Contact': {'ContactID': 'f4af0a9b-e710-4611-8618-4360944ce1f3', 'Name': 'Truxton Property Management', 'Addresses': [], 'Phones': [], 'ContactGroups': [], 'ContactPersons': [], 'HasValidationErrors': False}, 'DateString': '2020-11-25T00:00:00', 'Date': '/Date(1606262400000+0000)/', 'DueDateString': '2020-12-05T00:00:00', 'DueDate': '/Date(1607126400000+0000)/', 'Status': 'PAID', 'LineAmountTypes': 'Inclusive', 'LineItems': [], 'SubTotal': 1091.22, 'TotalTax': 90.03, 'Total': 1181.25, 'UpdatedDateUTC': '/Date(1357418045760+0000)/', 'CurrencyCode': 'USD', 'FullyPaidOnDate': '/Date(1606262400000+0000)/'}, {'Type': 'ACCPAY', 'InvoiceID': '361a4980-7f53-4b68-820c-f6487f613284', 'InvoiceNumber': '', 'Reference': '', 'Payments': [{'PaymentID': '5c7ab2aa-5b27-482b-b6e3-21b80d2e213e', 'Date': '/Date(1606867200000+0000)/', 'Amount': 411.35, 'CurrencyRate': 1.0, 'HasAccount': False, 'HasValidationErrors': False}], 'CreditNotes': [], 'Prepayments': [], 'Overpayments': [], 'AmountDue': 0.0, 'AmountPaid': 411.35, 'AmountCredited': 0.0, 'CurrencyRate': 1.0, 'IsDiscounted': False, 'HasAttachments': False, 'HasErrors': False, 'Contact': {'ContactID': 'ddd4ba65-9b7e-4adf-be7a-e91efbb6c082', 'Name': 'Gateway Motors', 'Addresses': [], 'Phones': [], 'ContactGroups': [], 'ContactPersons': [], 'HasValidationErrors': False}, 'DateString': '2020-12-01T00:00:00', 'Date': '/Date(1606780800000+0000)/', 'DueDateString': '2021-01-01T00:00:00', 'DueDate': '/Date(1609459200000+0000)/', 'Status': 'PAID', 'LineAmountTypes': 'Exclusive', 'LineItems': [], 'SubTotal': 380.0, 'TotalTax': 31.35, 'Total': 411.35, 'UpdatedDateUTC': '/Date(1357418478350+0000)/', 'CurrencyCode': 'USD', 'FullyPaidOnDate': '/Date(1606867200000+0000)/'}, {'Type': 'ACCREC', 'InvoiceID': '016a64c7-be0b-45a2-acae-13057fdf1566', 'InvoiceNumber': 'INV-0026', 'Reference': '', 'Payments': [], 'CreditNotes': [], 'Prepayments': [], 'Overpayments': [], 'AmountDue': 914.55, 'AmountPaid': 0.0, 'AmountCredited': 0.0, 'CurrencyRate': 1.0, 'IsDiscounted': False, 'HasAttachments': False, 'HasErrors': False, 'Contact': {'ContactID': '85d15bf3-207f-4278-8449-e12dade98c66', 'Name': 'Basket Case', 'Addresses': [], 'Phones': [], 'ContactGroups': [], 'ContactPersons': [], 'HasValidationErrors': False}, 'DateString': '2020-12-05T00:00:00', 'Date': '/Date(1607126400000+0000)/', 'DueDateString': '2020-12-15T00:00:00', 'DueDate': '/Date(1607990400000+0000)/', 'BrandingThemeID': '92f08561-bd65-469b-93fb-65dd1552c678', 'Status': 'AUTHORISED', 'LineAmountTypes': 'Inclusive', 'LineItems': [], 'SubTotal': 844.85, 'TotalTax': 69.7, 'Total': 914.55, 'UpdatedDateUTC': '/Date(1357590182357+0000)/', 'CurrencyCode': 'USD'}, {'Type': 'ACCREC', 'InvoiceID': '88617351-56ed-4c14-a30d-34a006d0a75a', 'InvoiceNumber': 'INV-0028', 'Reference': 'GB1-White', 'Payments': [], 'CreditNotes': [], 'Prepayments': [], 'Overpayments': [], 'AmountDue': 234.0, 'AmountPaid': 0.0, 'AmountCredited': 0.0, 'CurrencyRate': 1.0, 'IsDiscounted': False, 'HasAttachments': False, 'HasErrors': False, 'Contact': {'ContactID': 'b68deed5-49c8-416a-9f35-2ab14bb1fb6b', 'Name': 'Bayside Club', 'Addresses': [], 'Phones': [], 'ContactGroups': [], 'ContactPersons': [], 'HasValidationErrors': False}, 'DateString': '2020-12-05T00:00:00', 'Date': '/Date(1607126400000+0000)/', 'DueDateString': '2020-12-24T00:00:00', 'DueDate': '/Date(1608768000000+0000)/', 'BrandingThemeID': 'd613f7f9-8fcb-477f-97f0-31eb85b7e5cf', 'Status': 'AUTHORISED', 'LineAmountTypes': 'Inclusive', 'LineItems': [], 'SubTotal': 216.93, 'TotalTax': 17.07, 'Total': 234.0, 'UpdatedDateUTC': '/Date(1358198351037+0000)/', 'CurrencyCode': 'USD'}, {'Type': 'ACCPAY', 'InvoiceID': 'f175784c-3ae0-4850-8504-46ad807181f7', 'InvoiceNumber': '', 'Reference': '', 'Payments': [], 'CreditNotes': [], 'Prepayments': [], 'Overpayments': [], 'AmountDue': 130.0, 'AmountPaid': 0.0, 'AmountCredited': 0.0, 'CurrencyRate': 1.0, 'IsDiscounted': False, 'HasAttachments': False, 'HasErrors': False, 'Contact': {'ContactID': 'b68deed5-49c8-416a-9f35-2ab14bb1fb6b', 'Name': 'Bayside Club', 'Addresses': [], 'Phones': [], 'ContactGroups': [], 'ContactPersons': [], 'HasValidationErrors': False}, 'DateString': '2020-11-30T00:00:00', 'Date': '/Date(1606694400000+0000)/', 'DueDateString': '2020-12-10T00:00:00', 'DueDate': '/Date(1607558400000+0000)/', 'Status': 'AUTHORISED', 'LineAmountTypes': 'Inclusive', 'LineItems': [], 'SubTotal': 120.09, 'TotalTax': 9.91, 'Total': 130.0, 'UpdatedDateUTC': '/Date(1358206130843+0000)/', 'CurrencyCode': 'USD'}, {'Type': 'ACCREC', 'InvoiceID': '463042ef-4343-4a5a-abb8-9a1a3e2e1057', 'InvoiceNumber': 'INV-0011', 'Reference': 'Portal Proj', 'Payments': [{'PaymentID': '002b45b9-891e-43f9-9bfd-2ba9cabc43a4', 'Date': '/Date(1604534400000+0000)/', 'Amount': 1407.25, 'Reference': '', 'CurrencyRate': 1.0, 'HasAccount': False, 'HasValidationErrors': False}], 'CreditNotes': [], 'Prepayments': [], 'Overpayments': [], 'AmountDue': 0.0, 'AmountPaid': 1407.25, 'AmountCredited': 0.0, 'IsDiscounted': False, 'HasAttachments': False, 'HasErrors': False, 'Contact': {'ContactID': '2aaaeb6b-b519-4698-9b0a-f74ba1d39be6', 'Name': 'Petrie McLoud Watson & Associates', 'Addresses': [], 'Phones': [], 'ContactGroups': [], 'ContactPersons': [], 'HasValidationErrors': False}, 'DateString': '2020-10-19T00:00:00', 'Date': '/Date(1603065600000+0000)/', 'DueDateString': '2020-11-05T00:00:00', 'DueDate': '/Date(1604534400000+0000)/', 'Status': 'PAID', 'LineAmountTypes': 'Exclusive', 'LineItems': [], 'SubTotal': 1300.0, 'TotalTax': 107.25, 'Total': 1407.25, 'UpdatedDateUTC': '/Date(1385071667720+0000)/', 'CurrencyCode': 'USD', 'FullyPaidOnDate': '/Date(1604534400000+0000)/'}, {'Type': 'ACCREC', 'InvoiceID': '11e353a8-73f8-4f50-82e0-ff1a2ff8ffba', 'InvoiceNumber': 'INV-0013', 'Reference': 'Training', 'Payments': [{'PaymentID': 'f8ff15b6-8210-4350-9bec-c5132dfca4b7', 'Date': '/Date(1604534400000+0000)/', 'Amount': 1082.5, 'Reference': '', 'CurrencyRate': 1.0, 'HasAccount': False, 'HasValidationErrors': False}], 'CreditNotes': [], 'Prepayments': [], 'Overpayments': [], 'AmountDue': 0.0, 'AmountPaid': 1082.5, 'AmountCredited': 0.0, 'IsDiscounted': False, 'HasAttachments': False, 'HasErrors': False, 'Contact': {'ContactID': '37918a06-92f6-4edb-bfe0-1fc041c90f8b', 'Name': 'Boom FM', 'Addresses': [], 'Phones': [], 'ContactGroups': [], 'ContactPersons': [], 'HasValidationErrors': False}, 'DateString': '2020-10-24T00:00:00', 'Date': '/Date(1603497600000+0000)/', 'DueDateString': '2020-11-05T00:00:00', 'DueDate': '/Date(1604534400000+0000)/', 'Status': 'PAID', 'LineAmountTypes': 'Exclusive', 'LineItems': [], 'SubTotal': 1000.0, 'TotalTax': 82.5, 'Total': 1082.5, 'UpdatedDateUTC': '/Date(1385071671993+0000)/', 'CurrencyCode': 'USD', 'FullyPaidOnDate': '/Date(1604534400000+0000)/'}, {'Type': 'ACCREC', 'InvoiceID': 'cb43aadd-8836-4e95-aa2c-c4ba66c2ca9e', 'InvoiceNumber': 'INV-0009', 'Reference': 'P/O CRM08-12', 'Payments': [{'PaymentID': 'f7bc9e8d-e224-48f7-9e0c-815767f20834', 'Date': '/Date(1604534400000+0000)/', 'Amount': 6187.5, 'Reference': '', 'CurrencyRate': 1.0, 'HasAccount': False, 'HasValidationErrors': False}], 'CreditNotes': [], 'Prepayments': [], 'Overpayments': [], 'AmountDue': 0.0, 'AmountPaid': 6187.5, 'AmountCredited': 0.0, 'IsDiscounted': False, 'HasAttachments': False, 'HasErrors': False, 'Contact': {'ContactID': '65a44264-dea0-481a-b49d-18a334a72334', 'Name': 'Ridgeway University', 'Addresses': [], 'Phones': [], 'ContactGroups': [], 'ContactPersons': [], 'HasValidationErrors': False}, 'DateString': '2020-10-14T00:00:00', 'Date': '/Date(1602633600000+0000)/', 'DueDateString': '2020-11-05T00:00:00', 'DueDate': '/Date(1604534400000+0000)/', 'Status': 'PAID', 'LineAmountTypes': 'Inclusive', 'LineItems': [], 'SubTotal': 5715.94, 'TotalTax': 471.56, 'Total': 6187.5, 'UpdatedDateUTC': '/Date(1385071774503+0000)/', 'CurrencyCode': 'USD', 'FullyPaidOnDate': '/Date(1604534400000+0000)/'}, {'Type': 'ACCREC', 'InvoiceID': '2c916a34-14fe-4b38-af86-6b0fcc371a89', 'InvoiceNumber': 'INV-0022', 'Reference': 'Yr Ref W08-143', 'Payments': [{'PaymentID': 'b6b2c4bd-27e7-4d00-993d-b91bef6c7dae', 'Date': '/Date(1604534400000+0000)/', 'Amount': 216.5, 'Reference': '', 'CurrencyRate': 1.0, 'HasAccount': False, 'HasValidationErrors': False}], 'CreditNotes': [{'CreditNoteID': '4965b2fe-0a1b-471e-ade2-80e0e1f61c91', 'CreditNoteNumber': 'CN-0023', 'ID': '4965b2fe-0a1b-471e-ade2-80e0e1f61c91', 'HasErrors': False, 'AppliedAmount': 21.7, 'DateString': '2020-11-10T00:00:00', 'Date': '/Date(1604966400000+0000)/', 'LineItems': [], 'Total': 21.7}], 'Prepayments': [], 'Overpayments': [], 'AmountDue': 0.0, 'AmountPaid': 216.5, 'AmountCredited': 21.7, 'IsDiscounted': False, 'HasAttachments': False, 'HasErrors': False, 'Contact': {'ContactID': 'a3cf95c5-9d26-42e1-80c0-69e5f24886d3', 'Name': 'DIISR - Small Business Services', 'Addresses': [], 'Phones': [], 'ContactGroups': [], 'ContactPersons': [], 'HasValidationErrors': False}, 'DateString': '2020-11-05T00:00:00', 'Date': '/Date(1604534400000+0000)/', 'DueDateString': '2020-11-15T00:00:00', 'DueDate': '/Date(1605398400000+0000)/', 'Status': 'PAID', 'LineAmountTypes': 'Exclusive', 'LineItems': [], 'SubTotal': 219.95, 'TotalTax': 18.25, 'Total': 238.2, 'UpdatedDateUTC': '/Date(1385071801430+0000)/', 'CurrencyCode': 'USD', 'FullyPaidOnDate': '/Date(1604966400000+0000)/'}, {'Type': 'ACCREC', 'InvoiceID': '1371f05a-4cd3-4760-99a9-e4cf8d98e7bb', 'InvoiceNumber': 'INV-0018', 'Reference': 'Monthly Support', 'Payments': [{'PaymentID': '821adbe7-e2eb-49a1-8fe9-297a78716473', 'Date': '/Date(1605398400000+0000)/', 'Amount': 541.25, 'Reference': '', 'CurrencyRate': 1.0, 'HasAccount': False, 'HasValidationErrors': False}], 'CreditNotes': [], 'Prepayments': [], 'Overpayments': [], 'AmountDue': 0.0, 'AmountPaid': 541.25, 'AmountCredited': 0.0, 'IsDiscounted': False, 'HasAttachments': False, 'HasErrors': False, 'Contact': {'ContactID': 'fd89489e-699c-4d77-a881-10c127bfbeb3', 'Name': 'Hamilton Smith Ltd', 'Addresses': [], 'Phones': [], 'ContactGroups': [], 'ContactPersons': [], 'HasValidationErrors': False}, 'DateString': '2020-11-05T00:00:00', 'Date': '/Date(1604534400000+0000)/', 'DueDateString': '2020-11-15T00:00:00', 'DueDate': '/Date(1605398400000+0000)/', 'Status': 'PAID', 'LineAmountTypes': 'Exclusive', 'LineItems': [], 'SubTotal': 500.0, 'TotalTax': 41.25, 'Total': 541.25, 'UpdatedDateUTC': '/Date(1385071881223+0000)/', 'CurrencyCode': 'USD', 'FullyPaidOnDate': '/Date(1605398400000+0000)/'}, {'Type': 'ACCREC', 'InvoiceID': 'f0065405-e5ad-4c34-ad5b-645e72813c03', 'InvoiceNumber': 'INV-0019', 'Reference': 'Monthly Support', 'Payments': [{'PaymentID': '706f68c5-46b2-43d8-9aa8-41d1cc2a317f', 'Date': '/Date(1605398400000+0000)/', 'Amount': 541.25, 'Reference': '', 'CurrencyRate': 1.0, 'HasAccount': False, 'HasValidationErrors': False}], 'CreditNotes': [], 'Prepayments': [], 'Overpayments': [], 'AmountDue': 0.0, 'AmountPaid': 541.25, 'AmountCredited': 0.0, 'IsDiscounted': False, 'HasAttachments': False, 'HasErrors': False, 'Contact': {'ContactID': '021b18f8-b62f-4d8a-889e-71fd5427892a', 'Name': 'Young Bros Transport', 'Addresses': [], 'Phones': [], 'ContactGroups': [], 'ContactPersons': [], 'HasValidationErrors': False}, 'DateString': '2020-11-05T00:00:00', 'Date': '/Date(1604534400000+0000)/', 'DueDateString': '2020-11-15T00:00:00', 'DueDate': '/Date(1605398400000+0000)/', 'Status': 'PAID', 'LineAmountTypes': 'Exclusive', 'LineItems': [], 'SubTotal': 500.0, 'TotalTax': 41.25, 'Total': 541.25, 'UpdatedDateUTC': '/Date(1385071949883+0000)/', 'CurrencyCode': 'USD', 'FullyPaidOnDate': '/Date(1605398400000+0000)/'}, {'Type': 'ACCREC', 'InvoiceID': '72860d4a-207b-4f24-895d-167ffd44ae00', 'InvoiceNumber': 'INV-0020', 'Reference': 'Monthly Support', 'Payments': [{'PaymentID': '8649fded-cfb4-4acb-a367-714661501d38', 'Date': '/Date(1605398400000+0000)/', 'Amount': 541.25, 'Reference': '', 'CurrencyRate': 1.0, 'HasAccount': False, 'HasValidationErrors': False}], 'CreditNotes': [], 'Prepayments': [], 'Overpayments': [], 'AmountDue': 0.0, 'AmountPaid': 541.25, 'AmountCredited': 0.0, 'IsDiscounted': False, 'HasAttachments': False, 'HasErrors': False, 'Contact': {'ContactID': '378f211a-64c2-4327-bab3-9b057f4f51d9', 'Name': 'Port & Philip Freight', 'Addresses': [], 'Phones': [], 'ContactGroups': [], 'ContactPersons': [], 'HasValidationErrors': False}, 'DateString': '2020-11-05T00:00:00', 'Date': '/Date(1604534400000+0000)/', 'DueDateString': '2020-11-15T00:00:00', 'DueDate': '/Date(1605398400000+0000)/', 'Status': 'PAID', 'LineAmountTypes': 'Exclusive', 'LineItems': [], 'SubTotal': 500.0, 'TotalTax': 41.25, 'Total': 541.25, 'UpdatedDateUTC': '/Date(1385071968883+0000)/', 'CurrencyCode': 'USD', 'FullyPaidOnDate': '/Date(1605398400000+0000)/'}, {'Type': 'ACCREC', 'InvoiceID': '1ee8363f-097f-4fb3-a452-8068b947e75e', 'InvoiceNumber': 'INV-0021', 'Reference': 'Monthly Support', 'Payments': [{'PaymentID': '49856713-ab68-4411-99df-9b825f152eb6', 'Date': '/Date(1605398400000+0000)/', 'Amount': 541.25, 'Reference': '', 'CurrencyRate': 1.0, 'HasAccount': False, 'HasValidationErrors': False}], 'CreditNotes': [], 'Prepayments': [], 'Overpayments': [], 'AmountDue': 0.0, 'AmountPaid': 541.25, 'AmountCredited': 0.0, 'IsDiscounted': False, 'HasAttachments': False, 'HasErrors': False, 'Contact': {'ContactID': '3cbd5263-0965-4c4e-932c-bf50e3297610', 'Name': 'Rex Media Group', 'Addresses': [], 'Phones': [], 'ContactGroups': [], 'ContactPersons': [], 'HasValidationErrors': False}, 'DateString': '2020-11-05T00:00:00', 'Date': '/Date(1604534400000+0000)/', 'DueDateString': '2020-11-15T00:00:00', 'DueDate': '/Date(1605398400000+0000)/', 'Status': 'PAID', 'LineAmountTypes': 'Exclusive', 'LineItems': [], 'SubTotal': 500.0, 'TotalTax': 41.25, 'Total': 541.25, 'UpdatedDateUTC': '/Date(1385071982703+0000)/', 'CurrencyCode': 'USD', 'FullyPaidOnDate': '/Date(1605398400000+0000)/'}, {'Type': 'ACCPAY', 'InvoiceID': '2a578929-58bf-4eca-90db-1356383aeecb', 'InvoiceNumber': 'Dep', 'Reference': '', 'Payments': [{'PaymentID': '7153e7c8-175d-4d79-957c-34c6e0546f94', 'Date': '/Date(1605398400000+0000)/', 'Amount': 1500.0, 'Reference': '', 'CurrencyRate': 1.0, 'HasAccount': False, 'HasValidationErrors': False}], 'CreditNotes': [], 'Prepayments': [], 'Overpayments': [], 'AmountDue': 0.0, 'AmountPaid': 1500.0, 'AmountCredited': 0.0, 'IsDiscounted': False, 'HasAttachments': False, 'HasErrors': False, 'Contact': {'ContactID': '4ad99fdf-a0cc-4aaa-a1a6-6a1549b9df40', 'Name': 'Carlton Functions', 'Addresses': [], 'Phones': [], 'ContactGroups': [], 'ContactPersons': [], 'HasValidationErrors': False}, 'DateString': '2020-11-05T00:00:00', 'Date': '/Date(1604534400000+0000)/', 'DueDateString': '2020-11-15T00:00:00', 'DueDate': '/Date(1605398400000+0000)/', 'Status': 'PAID', 'LineAmountTypes': 'Exclusive', 'LineItems': [], 'SubTotal': 1500.0, 'TotalTax': 0.0, 'Total': 1500.0, 'UpdatedDateUTC': '/Date(1385071991050+0000)/', 'CurrencyCode': 'USD', 'FullyPaidOnDate': '/Date(1605398400000+0000)/'}, {'Type': 'ACCPAY', 'InvoiceID': '12d3bc5a-efe2-4093-b0e3-f6474ef7596d', 'InvoiceNumber': '08-4123', 'Reference': '', 'Payments': [{'PaymentID': '6d898c20-f15b-4242-a3a9-0c7f991502f0', 'Date': '/Date(1605398400000+0000)/', 'Amount': 5953.75, 'Reference': '', 'CurrencyRate': 1.0, 'HasAccount': False, 'HasValidationErrors': False}], 'CreditNotes': [], 'Prepayments': [], 'Overpayments': [], 'AmountDue': 0.0, 'AmountPaid': 5953.75, 'AmountCredited': 0.0, 'IsDiscounted': False, 'HasAttachments': False, 'HasErrors': False, 'Contact': {'ContactID': '1d80716b-427e-4cad-80c6-c4b3a18eb23d', 'Name': 'Hoyt Productions', 'Addresses': [], 'Phones': [], 'ContactGroups': [], 'ContactPersons': [], 'HasValidationErrors': False}, 'DateString': '2020-11-05T00:00:00', 'Date': '/Date(1604534400000+0000)/', 'DueDateString': '2020-11-15T00:00:00', 'DueDate': '/Date(1605398400000+0000)/', 'Status': 'PAID', 'LineAmountTypes': 'Exclusive', 'LineItems': [], 'SubTotal': 5500.0, 'TotalTax': 453.75, 'Total': 5953.75, 'UpdatedDateUTC': '/Date(1385072033123+0000)/', 'CurrencyCode': 'USD', 'FullyPaidOnDate': '/Date(1605398400000+0000)/'}, {'Type': 'ACCPAY', 'InvoiceID': '6e74d1a5-e95b-406d-8d96-7d8752fa388e', 'InvoiceNumber': '710', 'Reference': '', 'Payments': [{'PaymentID': '186b5bdc-9707-40da-b716-b412ea5a8770', 'Date': '/Date(1605398400000+0000)/', 'Amount': 1000.0, 'Reference': '', 'CurrencyRate': 1.0, 'HasAccount': False, 'HasValidationErrors': False}], 'CreditNotes': [], 'Prepayments': [], 'Overpayments': [], 'AmountDue': 0.0, 'AmountPaid': 1000.0, 'AmountCredited': 0.0, 'CurrencyRate': 1.0, 'IsDiscounted': False, 'HasAttachments': False, 'HasErrors': False, 'Contact': {'ContactID': '39efa556-8dda-4c81-83d3-a631e59eb6d3', 'Name': 'ABC Furniture', 'Addresses': [], 'Phones': [], 'ContactGroups': [], 'ContactPersons': [], 'HasValidationErrors': False}, 'DateString': '2020-11-15T00:00:00', 'Date': '/Date(1605398400000+0000)/', 'DueDateString': '2020-11-15T00:00:00', 'DueDate': '/Date(1605398400000+0000)/', 'Status': 'PAID', 'LineAmountTypes': 'Inclusive', 'LineItems': [], 'SubTotal': 923.79, 'TotalTax': 76.21, 'Total': 1000.0, 'UpdatedDateUTC': '/Date(1385072037417+0000)/', 'CurrencyCode': 'USD', 'FullyPaidOnDate': '/Date(1605398400000+0000)/'}, {'Type': 'ACCREC', 'InvoiceID': '4286e4ee-cc4a-4d74-9568-10935b3600bb', 'InvoiceNumber': 'INV-0016', 'Reference': 'Yr Ref W08-143', 'Payments': [{'PaymentID': 'f38b51a9-44e1-4afe-adc9-bb5c7fbbdf2d', 'Date': '/Date(1604534400000+0000)/', 'Amount': 568.31, 'Reference': '', 'CurrencyRate': 1.0, 'HasAccount': False, 'HasValidationErrors': False}], 'CreditNotes': [], 'Prepayments': [], 'Overpayments': [], 'AmountDue': 270.63, 'AmountPaid': 568.31, 'AmountCredited': 0.0, 'SentToContact': True, 'IsDiscounted': False, 'HasAttachments': False, 'HasErrors': False, 'Contact': {'ContactID': 'a3cf95c5-9d26-42e1-80c0-69e5f24886d3', 'Name': 'DIISR - Small Business Services', 'Addresses': [], 'Phones': [], 'ContactGroups': [], 'ContactPersons': [], 'HasValidationErrors': False}, 'DateString': '2020-10-26T00:00:00', 'Date': '/Date(1603670400000+0000)/', 'DueDateString': '2020-11-05T00:00:00', 'DueDate': '/Date(1604534400000+0000)/', 'Status': 'AUTHORISED', 'LineAmountTypes': 'Exclusive', 'LineItems': [], 'SubTotal': 775.0, 'TotalTax': 63.94, 'Total': 838.94, 'UpdatedDateUTC': '/Date(1385072324570+0000)/', 'CurrencyCode': 'USD'}, {'Type': 'ACCPAY', 'InvoiceID': 'bc532b0e-dfa7-44fd-99d9-1d24acd55b1c', 'InvoiceNumber': 'RENT', 'Reference': '', 'Payments': [{'PaymentID': '8f7e1fb5-5ccf-4487-9bec-bf38926770e3', 'BatchPaymentID': '97318868-0172-4b01-8a04-6da0dcd62452', 'Date': '/Date(1605398400000+0000)/', 'Amount': 1181.25, 'Reference': '', 'CurrencyRate': 1.0, 'HasAccount': False, 'HasValidationErrors': False}], 'CreditNotes': [], 'Prepayments': [], 'Overpayments': [], 'AmountDue': 0.0, 'AmountPaid': 1181.25, 'AmountCredited': 0.0, 'IsDiscounted': False, 'HasAttachments': False, 'HasErrors': False, 'RepeatingInvoiceID': 'dcd26e24-a848-4492-a452-695b88f66abc', 'Contact': {'ContactID': 'f4af0a9b-e710-4611-8618-4360944ce1f3', 'Name': 'Truxton Property Management', 'Addresses': [], 'Phones': [], 'ContactGroups': [], 'ContactPersons': [], 'HasValidationErrors': False}, 'DateString': '2020-11-05T00:00:00', 'Date': '/Date(1604534400000+0000)/', 'DueDateString': '2020-11-05T00:00:00', 'DueDate': '/Date(1604534400000+0000)/', 'Status': 'PAID', 'LineAmountTypes': 'Inclusive', 'LineItems': [], 'SubTotal': 1091.22, 'TotalTax': 90.03, 'Total': 1181.25, 'UpdatedDateUTC': '/Date(1385072764467+0000)/', 'CurrencyCode': 'USD', 'FullyPaidOnDate': '/Date(1605398400000+0000)/'}, {'Type': 'ACCPAY', 'InvoiceID': '9d9cd0fc-661b-49fb-9062-6e50c139b78b', 'InvoiceNumber': 'Rpt', 'Reference': '', 'Payments': [{'PaymentID': '18df9893-9cc0-4f47-8b15-b5798119d57d', 'BatchPaymentID': '97318868-0172-4b01-8a04-6da0dcd62452', 'Date': '/Date(1605398400000+0000)/', 'Amount': 46.82, 'Reference': '', 'CurrencyRate': 1.0, 'HasAccount': False, 'HasValidationErrors': False}], 'CreditNotes': [], 'Prepayments': [], 'Overpayments': [], 'AmountDue': 0.0, 'AmountPaid': 46.82, 'AmountCredited': 0.0, 'IsDiscounted': False, 'HasAttachments': False, 'HasErrors': False, 'RepeatingInvoiceID': '334e6b25-c876-499c-81da-ab1293bbeac5', 'Contact': {'ContactID': 'b553bc60-5fb9-4d5e-b604-71aaf657cd3d', 'Name': 'Net Connect', 'Addresses': [], 'Phones': [], 'ContactGroups': [], 'ContactPersons': [], 'HasValidationErrors': False}, 'DateString': '2020-11-06T00:00:00', 'Date': '/Date(1604620800000+0000)/', 'DueDateString': '2020-11-15T00:00:00', 'DueDate': '/Date(1605398400000+0000)/', 'Status': 'PAID', 'LineAmountTypes': 'Exclusive', 'LineItems': [], 'SubTotal': 43.25, 'TotalTax': 3.57, 'Total': 46.82, 'UpdatedDateUTC': '/Date(1385072764497+0000)/', 'CurrencyCode': 'USD', 'FullyPaidOnDate': '/Date(1605398400000+0000)/'}, {'Type': 'ACCPAY', 'InvoiceID': '47b97878-df82-4330-b731-80610cce65d1', 'InvoiceNumber': 'Rpt', 'Reference': '', 'Payments': [{'PaymentID': 'a13215f8-f573-4ff0-a93b-86fee4dd4ac6', 'BatchPaymentID': '97318868-0172-4b01-8a04-6da0dcd62452', 'Date': '/Date(1605398400000+0000)/', 'Amount': 135.85, 'Reference': '', 'CurrencyRate': 1.0, 'HasAccount': False, 'HasValidationErrors': False}], 'CreditNotes': [], 'Prepayments': [], 'Overpayments': [], 'AmountDue': 0.0, 'AmountPaid': 135.85, 'AmountCredited': 0.0, 'IsDiscounted': False, 'HasAttachments': False, 'HasErrors': False, 'RepeatingInvoiceID': '9bcc1e13-3e4a-47c5-a300-249bff8a00f6', 'Contact': {'ContactID': '8f48b066-e047-459d-80dd-d495b36608d0', 'Name': 'PowerDirect', 'Addresses': [], 'Phones': [], 'ContactGroups': [], 'ContactPersons': [], 'HasValidationErrors': False}, 'DateString': '2020-11-05T00:00:00', 'Date': '/Date(1604534400000+0000)/', 'DueDateString': '2020-11-15T00:00:00', 'DueDate': '/Date(1605398400000+0000)/', 'Status': 'PAID', 'LineAmountTypes': 'Exclusive', 'LineItems': [], 'SubTotal': 125.5, 'TotalTax': 10.35, 'Total': 135.85, 'UpdatedDateUTC': '/Date(1385072764513+0000)/', 'CurrencyCode': 'USD', 'FullyPaidOnDate': '/Date(1605398400000+0000)/'}, {'Type': 'ACCREC', 'InvoiceID': '1bba28a1-2807-4d2e-86a0-c418a91ac12f', 'InvoiceNumber': 'INV-0030', 'Reference': 'Monthly support', 'Payments': [], 'CreditNotes': [], 'Prepayments': [], 'Overpayments': [], 'AmountDue': 550.0, 'AmountPaid': 0.0, 'AmountCredited': 0.0, 'CurrencyRate': 1.0, 'IsDiscounted': False, 'HasAttachments': False, 'HasErrors': False, 'Contact': {'ContactID': '3cbd5263-0965-4c4e-932c-bf50e3297610', 'Name': 'Rex Media Group', 'Addresses': [], 'Phones': [], 'ContactGroups': [], 'ContactPersons': [], 'HasValidationErrors': False}, 'DateString': '2020-12-04T00:00:00', 'Date': '/Date(1607040000000+0000)/', 'DueDateString': '2020-12-19T00:00:00', 'DueDate': '/Date(1608336000000+0000)/', 'BrandingThemeID': 'd613f7f9-8fcb-477f-97f0-31eb85b7e5cf', 'Status': 'DRAFT', 'LineAmountTypes': 'Inclusive', 'LineItems': [], 'SubTotal': 508.08, 'TotalTax': 41.92, 'Total': 550.0, 'UpdatedDateUTC': '/Date(1466789021017+0000)/', 'CurrencyCode': 'USD'}, {'Type': 'ACCREC', 'InvoiceID': '3f4a783e-6e80-4062-9300-4df2524e8bf7', 'InvoiceNumber': 'INV-0029', 'Reference': 'Monthly support', 'Payments': [], 'CreditNotes': [], 'Prepayments': [], 'Overpayments': [], 'AmountDue': 550.0, 'AmountPaid': 0.0, 'AmountCredited': 0.0, 'CurrencyRate': 1.0, 'IsDiscounted': False, 'HasAttachments': False, 'HasErrors': False, 'Contact': {'ContactID': 'fd89489e-699c-4d77-a881-10c127bfbeb3', 'Name': 'Hamilton Smith Ltd', 'Addresses': [], 'Phones': [], 'ContactGroups': [], 'ContactPersons': [], 'HasValidationErrors': False}, 'DateString': '2020-12-04T00:00:00', 'Date': '/Date(1607040000000+0000)/', 'DueDateString': '2020-12-19T00:00:00', 'DueDate': '/Date(1608336000000+0000)/', 'BrandingThemeID': 'd613f7f9-8fcb-477f-97f0-31eb85b7e5cf', 'Status': 'DRAFT', 'LineAmountTypes': 'Inclusive', 'LineItems': [], 'SubTotal': 508.08, 'TotalTax': 41.92, 'Total': 550.0, 'UpdatedDateUTC': '/Date(1466789028673+0000)/', 'CurrencyCode': 'USD'}]}\n"
          ],
          "name": "stdout"
        }
      ]
    },
    {
      "cell_type": "code",
      "metadata": {
        "id": "A--U4iq-wniY"
      },
      "source": [
        "def export_csv():\r\n",
        "    invoices = open(r'/content/drive/My Drive/data/xero_output.txt', 'r').read()\r\n",
        "    json_invoice = json.loads(invoices)\r\n",
        "    analysis = open(r'/content/drive/My Drive/data/analysis.csv', 'w')\r\n",
        "    analysis.write('InvoiceNumber' + ',' + 'Reference' + ',' + 'Type' + ',' + 'Total')\r\n",
        "    analysis.write('\\n')\r\n",
        "    for invoices in json_invoice['Invoices']:\r\n",
        "        analysis.write(invoices['InvoiceNumber'] + ',' + invoices['Reference'] + ',' + invoices['Type'] + ',' + str(invoices['Total']))\r\n",
        "        analysis.write('\\n')\r\n",
        "    analysis.close()"
      ],
      "execution_count": 14,
      "outputs": []
    },
    {
      "cell_type": "code",
      "metadata": {
        "id": "agnJj62_zLJM"
      },
      "source": [
        "import pandas as pd\r\n",
        "import matplotlib.pyplot as plt\r\n",
        "def chart_data():\r\n",
        "    df = pd.read_csv(r'/content/drive/My Drive/data/analysis.csv')\r\n",
        "    pvt = df[ ['InvoiceNumber','Reference','Type','Total'] ]\r\n",
        "    # .groupby('Type').sum()\r\n",
        "    print(pvt)\r\n",
        "    \r\n",
        "    pvt.plot.bar(stacked=True)\r\n",
        "    plt.show()"
      ],
      "execution_count": 21,
      "outputs": []
    },
    {
      "cell_type": "code",
      "metadata": {
        "id": "9EB4OiTDy_ch"
      },
      "source": [
        "export_csv()"
      ],
      "execution_count": 22,
      "outputs": []
    },
    {
      "cell_type": "code",
      "metadata": {
        "colab": {
          "base_uri": "https://localhost:8080/",
          "height": 520
        },
        "id": "BFBjkBR_V-QC",
        "outputId": "72986e07-c17c-41a6-f972-28c64f4bc46f"
      },
      "source": [
        "chart_data()"
      ],
      "execution_count": 23,
      "outputs": [
        {
          "output_type": "stream",
          "text": [
            "   InvoiceNumber        Reference    Type    Total\n",
            "0       INV-0027        Ref MK815  ACCREC   396.00\n",
            "1             AP              NaN  ACCPAY    59.54\n",
            "2             AP              NaN  ACCPAY    31.39\n",
            "3       INV-0010         Training  ACCREC   541.25\n",
            "4       INV-0005  Monthly Support  ACCREC   541.25\n",
            "..           ...              ...     ...      ...\n",
            "63          RENT              NaN  ACCPAY  1181.25\n",
            "64           Rpt              NaN  ACCPAY    46.82\n",
            "65           Rpt              NaN  ACCPAY   135.85\n",
            "66      INV-0030  Monthly support  ACCREC   550.00\n",
            "67      INV-0029  Monthly support  ACCREC   550.00\n",
            "\n",
            "[68 rows x 4 columns]\n"
          ],
          "name": "stdout"
        },
        {
          "output_type": "display_data",
          "data": {
            "image/png": "[encoded data removed]",
            "text/plain": [
              "<Figure size 432x288 with 1 Axes>"
            ]
          },
          "metadata": {
            "tags": [],
            "needs_background": "light"
          }
        },
        {
          "output_type": "display_data",
          "data": {
            "text/plain": [
              "<Figure size 432x288 with 0 Axes>"
            ]
          },
          "metadata": {
            "tags": []
          }
        }
      ]
    },
    {
      "cell_type": "code",
      "metadata": {
        "colab": {
          "base_uri": "https://localhost:8080/",
          "height": 17
        },
        "id": "GHKBOjq5Yn7B",
        "outputId": "b7560e25-deb2-48fd-89bf-42d6189432a8"
      },
      "source": [
        "from google.colab import files\r\n",
        "files.download('/content/drive/My Drive/data/xero_output.txt')"
      ],
      "execution_count": 18,
      "outputs": [
        {
          "output_type": "display_data",
          "data": {
            "application/javascript": [
              "\n",
              "    async function download(id, filename, size) {\n",
              "      if (!google.colab.kernel.accessAllowed) {\n",
              "        return;\n",
              "      }\n",
              "      const div = document.createElement('div');\n",
              "      const label = document.createElement('label');\n",
              "      label.textContent = `Downloading \"${filename}\": `;\n",
              "      div.appendChild(label);\n",
              "      const progress = document.createElement('progress');\n",
              "      progress.max = size;\n",
              "      div.appendChild(progress);\n",
              "      document.body.appendChild(div);\n",
              "\n",
              "      const buffers = [];\n",
              "      let downloaded = 0;\n",
              "\n",
              "      const channel = await google.colab.kernel.comms.open(id);\n",
              "      // Send a message to notify the kernel that we're ready.\n",
              "      channel.send({})\n",
              "\n",
              "      for await (const message of channel.messages) {\n",
              "        // Send a message to notify the kernel that we're ready.\n",
              "        channel.send({})\n",
              "        if (message.buffers) {\n",
              "          for (const buffer of message.buffers) {\n",
              "            buffers.push(buffer);\n",
              "            downloaded += buffer.byteLength;\n",
              "            progress.value = downloaded;\n",
              "          }\n",
              "        }\n",
              "      }\n",
              "      const blob = new Blob(buffers, {type: 'application/binary'});\n",
              "      const a = document.createElement('a');\n",
              "      a.href = window.URL.createObjectURL(blob);\n",
              "      a.download = filename;\n",
              "      div.appendChild(a);\n",
              "      a.click();\n",
              "      div.remove();\n",
              "    }\n",
              "  "
            ],
            "text/plain": [
              "<IPython.core.display.Javascript object>"
            ]
          },
          "metadata": {
            "tags": []
          }
        },
        {
          "output_type": "display_data",
          "data": {
            "application/javascript": [
              "download(\"download_155fc776-9030-4afe-8088-5167ad9d9a56\", \"xero_output.txt\", 96244)"
            ],
            "text/plain": [
              "<IPython.core.display.Javascript object>"
            ]
          },
          "metadata": {
            "tags": []
          }
        }
      ]
    },
    {
      "cell_type": "code",
      "metadata": {
        "colab": {
          "base_uri": "https://localhost:8080/",
          "height": 17
        },
        "id": "weMIGGrUaFba",
        "outputId": "ddad2710-2e78-44eb-ef0d-23434ca0e0be"
      },
      "source": [
        "files.download('/content/drive/My Drive/data/analysis.csv')"
      ],
      "execution_count": 20,
      "outputs": [
        {
          "output_type": "display_data",
          "data": {
            "application/javascript": [
              "\n",
              "    async function download(id, filename, size) {\n",
              "      if (!google.colab.kernel.accessAllowed) {\n",
              "        return;\n",
              "      }\n",
              "      const div = document.createElement('div');\n",
              "      const label = document.createElement('label');\n",
              "      label.textContent = `Downloading \"${filename}\": `;\n",
              "      div.appendChild(label);\n",
              "      const progress = document.createElement('progress');\n",
              "      progress.max = size;\n",
              "      div.appendChild(progress);\n",
              "      document.body.appendChild(div);\n",
              "\n",
              "      const buffers = [];\n",
              "      let downloaded = 0;\n",
              "\n",
              "      const channel = await google.colab.kernel.comms.open(id);\n",
              "      // Send a message to notify the kernel that we're ready.\n",
              "      channel.send({})\n",
              "\n",
              "      for await (const message of channel.messages) {\n",
              "        // Send a message to notify the kernel that we're ready.\n",
              "        channel.send({})\n",
              "        if (message.buffers) {\n",
              "          for (const buffer of message.buffers) {\n",
              "            buffers.push(buffer);\n",
              "            downloaded += buffer.byteLength;\n",
              "            progress.value = downloaded;\n",
              "          }\n",
              "        }\n",
              "      }\n",
              "      const blob = new Blob(buffers, {type: 'application/binary'});\n",
              "      const a = document.createElement('a');\n",
              "      a.href = window.URL.createObjectURL(blob);\n",
              "      a.download = filename;\n",
              "      div.appendChild(a);\n",
              "      a.click();\n",
              "      div.remove();\n",
              "    }\n",
              "  "
            ],
            "text/plain": [
              "<IPython.core.display.Javascript object>"
            ]
          },
          "metadata": {
            "tags": []
          }
        },
        {
          "output_type": "display_data",
          "data": {
            "application/javascript": [
              "download(\"download_0bc622dd-ae8e-4a21-a25c-f27f5be151fa\", \"analysis.csv\", 1762)"
            ],
            "text/plain": [
              "<IPython.core.display.Javascript object>"
            ]
          },
          "metadata": {
            "tags": []
          }
        }
      ]
    }
  ]
}